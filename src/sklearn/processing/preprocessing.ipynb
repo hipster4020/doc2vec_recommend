{
 "cells": [
  {
   "cell_type": "markdown",
   "id": "6b8e7f16-835a-4aa5-8f3d-9e1530b2511a",
   "metadata": {},
   "source": [
    "# Data Load"
   ]
  },
  {
   "cell_type": "code",
   "execution_count": 1,
   "id": "bf0b63cd-8d4e-431a-8fec-83f9b3294bc7",
   "metadata": {},
   "outputs": [],
   "source": [
    "from pshmodule.utils import filemanager as fm"
   ]
  },
  {
   "cell_type": "code",
   "execution_count": 2,
   "id": "ab479a3b-e5db-4b6b-b89c-67e8844f2fba",
   "metadata": {},
   "outputs": [
    {
     "name": "stdout",
     "output_type": "stream",
     "text": [
      "extension : .xlsx\n",
      "Loaded 244709 records from /home/jovyan/shpark-datashare/ntis/df_final.xlsx\n"
     ]
    }
   ],
   "source": [
    "df = fm.load('/home/jovyan/shpark-datashare/ntis/df_final.xlsx')"
   ]
  },
  {
   "cell_type": "code",
   "execution_count": 3,
   "id": "59224fdb-a402-48ad-9595-0fd5bae50a14",
   "metadata": {},
   "outputs": [],
   "source": [
    "df.drop('Unnamed: 0', axis='columns', inplace=True)"
   ]
  },
  {
   "cell_type": "code",
   "execution_count": 4,
   "id": "46a31a37-2448-4012-81fd-90c086a764d8",
   "metadata": {},
   "outputs": [
    {
     "data": {
      "text/html": [
       "<div>\n",
       "<style scoped>\n",
       "    .dataframe tbody tr th:only-of-type {\n",
       "        vertical-align: middle;\n",
       "    }\n",
       "\n",
       "    .dataframe tbody tr th {\n",
       "        vertical-align: top;\n",
       "    }\n",
       "\n",
       "    .dataframe thead th {\n",
       "        text-align: right;\n",
       "    }\n",
       "</style>\n",
       "<table border=\"1\" class=\"dataframe\">\n",
       "  <thead>\n",
       "    <tr style=\"text-align: right;\">\n",
       "      <th></th>\n",
       "      <th>year</th>\n",
       "      <th>agency</th>\n",
       "      <th>b_name</th>\n",
       "      <th>b_detail</th>\n",
       "      <th>ass_name</th>\n",
       "      <th>ass_content</th>\n",
       "      <th>ass_detail</th>\n",
       "      <th>ass_no</th>\n",
       "      <th>user_no</th>\n",
       "    </tr>\n",
       "  </thead>\n",
       "  <tbody>\n",
       "    <tr>\n",
       "      <th>0</th>\n",
       "      <td>2017</td>\n",
       "      <td>한국화학연구원</td>\n",
       "      <td>한국화학연구원연구운영비지원</td>\n",
       "      <td>시장선도형 신물질 파이프라인 및 기반기술 구축·개발</td>\n",
       "      <td>생명통합정보시스템 활용 독창적 신약개발협동연구사업</td>\n",
       "      <td>1)SAE1/2 저해제 항암제 개발\\n\\n\\n\\n\\n\\n   - 구조-활성 상관관계...</td>\n",
       "      <td>NaN</td>\n",
       "      <td>1711063796</td>\n",
       "      <td>875</td>\n",
       "    </tr>\n",
       "    <tr>\n",
       "      <th>1</th>\n",
       "      <td>2017</td>\n",
       "      <td>한국화학연구원</td>\n",
       "      <td>한국화학연구원연구운영비지원</td>\n",
       "      <td>시장선도형 신물질 파이프라인 및 기반기술 구축·개발</td>\n",
       "      <td>글로벌수준 신약플랫폼기술 확립</td>\n",
       "      <td>NaN</td>\n",
       "      <td>NaN</td>\n",
       "      <td>1711063705</td>\n",
       "      <td>904</td>\n",
       "    </tr>\n",
       "    <tr>\n",
       "      <th>2</th>\n",
       "      <td>2017</td>\n",
       "      <td>한국화학연구원</td>\n",
       "      <td>한국화학연구원연구운영비지원</td>\n",
       "      <td>고부가가치 녹색 화학소재 원천기술 개발</td>\n",
       "      <td>광에너지 융합소재 원천기술 개발</td>\n",
       "      <td>\"- 유기태양전지 핵심 소재 및 소자화 기술 개발\\n\\n\\n\\n\\n\\n   · 신규...</td>\n",
       "      <td>NaN</td>\n",
       "      <td>1711063692</td>\n",
       "      <td>907</td>\n",
       "    </tr>\n",
       "    <tr>\n",
       "      <th>3</th>\n",
       "      <td>2017</td>\n",
       "      <td>한국화학연구원</td>\n",
       "      <td>한국화학연구원연구운영비지원</td>\n",
       "      <td>지속가능한 화학산업을 위한 화학공정기술 개발</td>\n",
       "      <td>에너지 및 화학원료 확보를 위한 대형 융합플랜트 기술</td>\n",
       "      <td>\"\"\"정유·석유화학산업 반응·분리공정의  Package화 기술 개발\\n\\n\\n\\n\\...</td>\n",
       "      <td>NaN</td>\n",
       "      <td>1711063780</td>\n",
       "      <td>896</td>\n",
       "    </tr>\n",
       "    <tr>\n",
       "      <th>4</th>\n",
       "      <td>2017</td>\n",
       "      <td>한국화학연구원</td>\n",
       "      <td>한국화학연구원연구운영비지원</td>\n",
       "      <td>시장선도형 신물질 파이프라인 및 기반기술 구축·개발</td>\n",
       "      <td>고수준 신약소재 확보를 통한 화합물은행 고도화사업</td>\n",
       "      <td>\"- 고품질 신약소재 화합물 라이브러리 확보\\n\\n\\n\\n\\n\\n- 화합물라이브러리...</td>\n",
       "      <td>NaN</td>\n",
       "      <td>1711063798</td>\n",
       "      <td>884</td>\n",
       "    </tr>\n",
       "  </tbody>\n",
       "</table>\n",
       "</div>"
      ],
      "text/plain": [
       "   year   agency          b_name                      b_detail  \\\n",
       "0  2017  한국화학연구원  한국화학연구원연구운영비지원  시장선도형 신물질 파이프라인 및 기반기술 구축·개발   \n",
       "1  2017  한국화학연구원  한국화학연구원연구운영비지원  시장선도형 신물질 파이프라인 및 기반기술 구축·개발   \n",
       "2  2017  한국화학연구원  한국화학연구원연구운영비지원         고부가가치 녹색 화학소재 원천기술 개발   \n",
       "3  2017  한국화학연구원  한국화학연구원연구운영비지원      지속가능한 화학산업을 위한 화학공정기술 개발   \n",
       "4  2017  한국화학연구원  한국화학연구원연구운영비지원  시장선도형 신물질 파이프라인 및 기반기술 구축·개발   \n",
       "\n",
       "                        ass_name  \\\n",
       "0    생명통합정보시스템 활용 독창적 신약개발협동연구사업   \n",
       "1               글로벌수준 신약플랫폼기술 확립   \n",
       "2              광에너지 융합소재 원천기술 개발   \n",
       "3  에너지 및 화학원료 확보를 위한 대형 융합플랜트 기술   \n",
       "4    고수준 신약소재 확보를 통한 화합물은행 고도화사업   \n",
       "\n",
       "                                         ass_content ass_detail      ass_no  \\\n",
       "0  1)SAE1/2 저해제 항암제 개발\\n\\n\\n\\n\\n\\n   - 구조-활성 상관관계...        NaN  1711063796   \n",
       "1                                                NaN        NaN  1711063705   \n",
       "2  \"- 유기태양전지 핵심 소재 및 소자화 기술 개발\\n\\n\\n\\n\\n\\n   · 신규...        NaN  1711063692   \n",
       "3  \"\"\"정유·석유화학산업 반응·분리공정의  Package화 기술 개발\\n\\n\\n\\n\\...        NaN  1711063780   \n",
       "4  \"- 고품질 신약소재 화합물 라이브러리 확보\\n\\n\\n\\n\\n\\n- 화합물라이브러리...        NaN  1711063798   \n",
       "\n",
       "   user_no  \n",
       "0      875  \n",
       "1      904  \n",
       "2      907  \n",
       "3      896  \n",
       "4      884  "
      ]
     },
     "execution_count": 4,
     "metadata": {},
     "output_type": "execute_result"
    }
   ],
   "source": [
    "df.head()"
   ]
  },
  {
   "cell_type": "code",
   "execution_count": 5,
   "id": "4afe8430-9818-4356-afd8-372b5b3fa2de",
   "metadata": {},
   "outputs": [
    {
     "data": {
      "text/plain": [
       "(244709, 9)"
      ]
     },
     "execution_count": 5,
     "metadata": {},
     "output_type": "execute_result"
    }
   ],
   "source": [
    "df.shape"
   ]
  },
  {
   "cell_type": "markdown",
   "id": "a089b8d4-171a-4d8c-97c8-c141e3839ccb",
   "metadata": {},
   "source": [
    "# Null Check"
   ]
  },
  {
   "cell_type": "code",
   "execution_count": 6,
   "id": "a09e4cb8-afef-4dd1-81f7-3996587f8361",
   "metadata": {},
   "outputs": [],
   "source": [
    "# '제출년도':'year', '과제수행기관명':'agency', '사업명':'b_name', '내역사업명':'b_detail', '과제명':'ass_name', '요약문_연구내용':'ass_content', '세부과제지원유형':'ass_detail', '과제고유번호':'ass_no', '연구책임자 임의번호':'user_no'"
   ]
  },
  {
   "cell_type": "code",
   "execution_count": 7,
   "id": "3323db2c-a299-4414-b6f9-a7965f31df68",
   "metadata": {},
   "outputs": [],
   "source": [
    "# 사업명"
   ]
  },
  {
   "cell_type": "code",
   "execution_count": 8,
   "id": "6f6e2a1e-ded3-46cd-a71a-acaedf21e538",
   "metadata": {},
   "outputs": [],
   "source": [
    "df_bname_null = df[df.b_name.isnull()]"
   ]
  },
  {
   "cell_type": "code",
   "execution_count": 9,
   "id": "b6e59df1-2b0e-496e-baf6-b7d5f4c45969",
   "metadata": {},
   "outputs": [
    {
     "data": {
      "text/plain": [
       "(0, 9)"
      ]
     },
     "execution_count": 9,
     "metadata": {},
     "output_type": "execute_result"
    }
   ],
   "source": [
    "df_bname_null.shape"
   ]
  },
  {
   "cell_type": "code",
   "execution_count": 10,
   "id": "b01bd92f-3208-48a6-bbe3-10db78b80dac",
   "metadata": {},
   "outputs": [],
   "source": [
    "# 내역사업명"
   ]
  },
  {
   "cell_type": "code",
   "execution_count": 11,
   "id": "2f9631d0-69ef-424e-b423-5adc2174e6f2",
   "metadata": {},
   "outputs": [],
   "source": [
    "df_bdetail_null = df[df.b_detail.isnull()]"
   ]
  },
  {
   "cell_type": "code",
   "execution_count": 12,
   "id": "6f270d62-ad85-407c-9e88-b8464de9b947",
   "metadata": {},
   "outputs": [
    {
     "data": {
      "text/plain": [
       "(0, 9)"
      ]
     },
     "execution_count": 12,
     "metadata": {},
     "output_type": "execute_result"
    }
   ],
   "source": [
    "df_bdetail_null.shape"
   ]
  },
  {
   "cell_type": "code",
   "execution_count": 13,
   "id": "6b37063b-c6dd-49c6-8c2c-ca53212c7a83",
   "metadata": {},
   "outputs": [],
   "source": [
    "# 과제명"
   ]
  },
  {
   "cell_type": "code",
   "execution_count": 14,
   "id": "0b2e0c0b-95d0-4b96-ab10-0773d8e56191",
   "metadata": {},
   "outputs": [],
   "source": [
    "df_assname_null = df[df.ass_name.isnull()]"
   ]
  },
  {
   "cell_type": "code",
   "execution_count": 15,
   "id": "5f0c57d4-4da3-4461-b882-4e05d99e40a5",
   "metadata": {},
   "outputs": [
    {
     "data": {
      "text/plain": [
       "(0, 9)"
      ]
     },
     "execution_count": 15,
     "metadata": {},
     "output_type": "execute_result"
    }
   ],
   "source": [
    "df_assname_null.shape"
   ]
  },
  {
   "cell_type": "code",
   "execution_count": 16,
   "id": "b5468bbc-57f0-43b3-b78f-c2ee8e76c954",
   "metadata": {},
   "outputs": [],
   "source": [
    "# 요약문 연구내용"
   ]
  },
  {
   "cell_type": "code",
   "execution_count": 17,
   "id": "e817aa95-4d2c-4d5d-a212-32503481ea0c",
   "metadata": {},
   "outputs": [],
   "source": [
    "df_asscontent_null = df[df.ass_content.isnull()]"
   ]
  },
  {
   "cell_type": "code",
   "execution_count": 18,
   "id": "1ae401e6-6e25-4488-ac73-a523b09fbe3f",
   "metadata": {},
   "outputs": [
    {
     "data": {
      "text/plain": [
       "(12284, 9)"
      ]
     },
     "execution_count": 18,
     "metadata": {},
     "output_type": "execute_result"
    }
   ],
   "source": [
    "df_asscontent_null.shape"
   ]
  },
  {
   "cell_type": "code",
   "execution_count": 19,
   "id": "b2bcaaab-d734-455a-af50-f892300c96c9",
   "metadata": {},
   "outputs": [],
   "source": [
    "# 세부과제지원유형"
   ]
  },
  {
   "cell_type": "code",
   "execution_count": 20,
   "id": "bba7ca54-4c83-4d31-a207-422fc257241e",
   "metadata": {},
   "outputs": [],
   "source": [
    "df_assdetail_null = df[df.ass_detail.isnull()]"
   ]
  },
  {
   "cell_type": "code",
   "execution_count": 21,
   "id": "b088b2a3-37ee-4cee-926b-e3ca2d4bdbd8",
   "metadata": {},
   "outputs": [
    {
     "data": {
      "text/plain": [
       "(53376, 9)"
      ]
     },
     "execution_count": 21,
     "metadata": {},
     "output_type": "execute_result"
    }
   ],
   "source": [
    "df_assdetail_null.shape"
   ]
  },
  {
   "cell_type": "code",
   "execution_count": 22,
   "id": "e6bdf165-4bbd-4178-b679-d17381ab6c4a",
   "metadata": {},
   "outputs": [],
   "source": [
    "# 과제고유번호"
   ]
  },
  {
   "cell_type": "code",
   "execution_count": 23,
   "id": "6a1c0744-fee7-4fc6-ba02-904b54aba25e",
   "metadata": {},
   "outputs": [],
   "source": [
    "df_assno_null = df[df.ass_no.isnull()]"
   ]
  },
  {
   "cell_type": "code",
   "execution_count": 24,
   "id": "ac460f67-d869-4f17-bfbb-2cde97d649eb",
   "metadata": {},
   "outputs": [
    {
     "data": {
      "text/plain": [
       "(0, 9)"
      ]
     },
     "execution_count": 24,
     "metadata": {},
     "output_type": "execute_result"
    }
   ],
   "source": [
    "df_assno_null.shape"
   ]
  },
  {
   "cell_type": "code",
   "execution_count": 25,
   "id": "5fa67730-3206-4198-83cf-214de2a72697",
   "metadata": {},
   "outputs": [],
   "source": [
    "# 연구책임자 임의번호"
   ]
  },
  {
   "cell_type": "code",
   "execution_count": 26,
   "id": "72a9421b-e1a0-4fc0-8a94-1f7bf1e87316",
   "metadata": {},
   "outputs": [],
   "source": [
    "df_userno_null = df[df.user_no.isnull()]"
   ]
  },
  {
   "cell_type": "code",
   "execution_count": 27,
   "id": "71e236c1-2087-43f9-8d87-884d82f613f1",
   "metadata": {},
   "outputs": [
    {
     "data": {
      "text/plain": [
       "(0, 9)"
      ]
     },
     "execution_count": 27,
     "metadata": {},
     "output_type": "execute_result"
    }
   ],
   "source": [
    "df_userno_null.shape"
   ]
  },
  {
   "cell_type": "markdown",
   "id": "697565a7-7829-49f0-b08b-b5a5073d6b82",
   "metadata": {},
   "source": [
    "# "
   ]
  },
  {
   "cell_type": "markdown",
   "id": "5e9c9da7-aa75-4350-89f8-a69418464451",
   "metadata": {},
   "source": [
    "# Preprocessing"
   ]
  },
  {
   "cell_type": "code",
   "execution_count": 1,
   "id": "5d93e526-5c52-466a-b2e4-86133ac24e75",
   "metadata": {},
   "outputs": [],
   "source": [
    "import re\n",
    "import swifter\n",
    "from pshmodule.utils import filemanager as fm"
   ]
  },
  {
   "cell_type": "code",
   "execution_count": 2,
   "id": "674ee984-674f-4f11-b65c-0f7cee244d85",
   "metadata": {},
   "outputs": [
    {
     "name": "stdout",
     "output_type": "stream",
     "text": [
      "extension : .xlsx\n",
      "Loaded 244709 records from /home/jovyan/shpark-datashare/ntis/df_final.xlsx\n"
     ]
    }
   ],
   "source": [
    "df_origin = fm.load('/home/jovyan/shpark-datashare/ntis/df_final.xlsx')"
   ]
  },
  {
   "cell_type": "code",
   "execution_count": 3,
   "id": "809ca5c1-0623-43a5-8920-de7f3cd5538c",
   "metadata": {},
   "outputs": [],
   "source": [
    "df_origin.drop('Unnamed: 0', axis='columns', inplace=True)"
   ]
  },
  {
   "cell_type": "markdown",
   "id": "6fd04ae0-d9b5-43ef-996d-6814bf830b5d",
   "metadata": {},
   "source": [
    "# "
   ]
  },
  {
   "cell_type": "code",
   "execution_count": 4,
   "id": "ad3fb9bf-cd1c-49e3-a6a7-b3bee35aa012",
   "metadata": {},
   "outputs": [],
   "source": [
    "def preprocessing(x):\n",
    "    result = re.sub(r'\\d\\)', '', str(x))\n",
    "    result = re.sub(r'\\([^)]*\\)', '', str(result))\n",
    "    result = re.sub('[^0-9a-zA-Zㄱ-힣\\s]', '', str(result))\n",
    "    result = result.replace('\\n', ' ').replace('ㅇ ', ' ').replace('o ', ' ').replace('O ', ' ')\n",
    "    result = re.sub(' +', ' ', result)\n",
    "    result = result.strip()\n",
    "    return result"
   ]
  },
  {
   "cell_type": "code",
   "execution_count": 5,
   "id": "ea85876b-5313-45c1-9251-ecc32df0fdf3",
   "metadata": {},
   "outputs": [],
   "source": [
    "# agency\tb_name\tb_detail\tass_name\tass_content\tass_detail\tass_no"
   ]
  },
  {
   "cell_type": "code",
   "execution_count": 6,
   "id": "20c4a863-d308-44bf-a878-1a0d85a05e4f",
   "metadata": {},
   "outputs": [],
   "source": [
    "# ass_content, ass_detail\n",
    "df_origin['ass_content'] = df_origin.ass_content.fillna('')\n",
    "df_origin['ass_detail'] = df_origin.ass_detail.fillna('')"
   ]
  },
  {
   "cell_type": "code",
   "execution_count": 7,
   "id": "735c9d34-b722-46bd-bd0e-bc2464a34472",
   "metadata": {},
   "outputs": [],
   "source": [
    "df_origin['content'] = df_origin.b_name + \" \" + df_origin.b_detail + \" \" + df_origin.ass_name + \" \" + df_origin.ass_content + \" \" + df_origin.ass_detail "
   ]
  },
  {
   "cell_type": "code",
   "execution_count": 8,
   "id": "8e1fe043-cf35-4d58-a7d6-1b21f63dbb24",
   "metadata": {},
   "outputs": [
    {
     "data": {
      "text/html": [
       "<div>\n",
       "<style scoped>\n",
       "    .dataframe tbody tr th:only-of-type {\n",
       "        vertical-align: middle;\n",
       "    }\n",
       "\n",
       "    .dataframe tbody tr th {\n",
       "        vertical-align: top;\n",
       "    }\n",
       "\n",
       "    .dataframe thead th {\n",
       "        text-align: right;\n",
       "    }\n",
       "</style>\n",
       "<table border=\"1\" class=\"dataframe\">\n",
       "  <thead>\n",
       "    <tr style=\"text-align: right;\">\n",
       "      <th></th>\n",
       "      <th>year</th>\n",
       "      <th>agency</th>\n",
       "      <th>b_name</th>\n",
       "      <th>b_detail</th>\n",
       "      <th>ass_name</th>\n",
       "      <th>ass_content</th>\n",
       "      <th>ass_detail</th>\n",
       "      <th>ass_no</th>\n",
       "      <th>user_no</th>\n",
       "      <th>content</th>\n",
       "    </tr>\n",
       "  </thead>\n",
       "  <tbody>\n",
       "    <tr>\n",
       "      <th>0</th>\n",
       "      <td>2017</td>\n",
       "      <td>한국화학연구원</td>\n",
       "      <td>한국화학연구원연구운영비지원</td>\n",
       "      <td>시장선도형 신물질 파이프라인 및 기반기술 구축·개발</td>\n",
       "      <td>생명통합정보시스템 활용 독창적 신약개발협동연구사업</td>\n",
       "      <td>1)SAE1/2 저해제 항암제 개발\\n\\n\\n\\n\\n\\n   - 구조-활성 상관관계...</td>\n",
       "      <td></td>\n",
       "      <td>1711063796</td>\n",
       "      <td>875</td>\n",
       "      <td>한국화학연구원연구운영비지원 시장선도형 신물질 파이프라인 및 기반기술 구축·개발 생명...</td>\n",
       "    </tr>\n",
       "    <tr>\n",
       "      <th>1</th>\n",
       "      <td>2017</td>\n",
       "      <td>한국화학연구원</td>\n",
       "      <td>한국화학연구원연구운영비지원</td>\n",
       "      <td>시장선도형 신물질 파이프라인 및 기반기술 구축·개발</td>\n",
       "      <td>글로벌수준 신약플랫폼기술 확립</td>\n",
       "      <td></td>\n",
       "      <td></td>\n",
       "      <td>1711063705</td>\n",
       "      <td>904</td>\n",
       "      <td>한국화학연구원연구운영비지원 시장선도형 신물질 파이프라인 및 기반기술 구축·개발 글로...</td>\n",
       "    </tr>\n",
       "    <tr>\n",
       "      <th>2</th>\n",
       "      <td>2017</td>\n",
       "      <td>한국화학연구원</td>\n",
       "      <td>한국화학연구원연구운영비지원</td>\n",
       "      <td>고부가가치 녹색 화학소재 원천기술 개발</td>\n",
       "      <td>광에너지 융합소재 원천기술 개발</td>\n",
       "      <td>\"- 유기태양전지 핵심 소재 및 소자화 기술 개발\\n\\n\\n\\n\\n\\n   · 신규...</td>\n",
       "      <td></td>\n",
       "      <td>1711063692</td>\n",
       "      <td>907</td>\n",
       "      <td>한국화학연구원연구운영비지원 고부가가치 녹색 화학소재 원천기술 개발 광에너지 융합소재...</td>\n",
       "    </tr>\n",
       "    <tr>\n",
       "      <th>3</th>\n",
       "      <td>2017</td>\n",
       "      <td>한국화학연구원</td>\n",
       "      <td>한국화학연구원연구운영비지원</td>\n",
       "      <td>지속가능한 화학산업을 위한 화학공정기술 개발</td>\n",
       "      <td>에너지 및 화학원료 확보를 위한 대형 융합플랜트 기술</td>\n",
       "      <td>\"\"\"정유·석유화학산업 반응·분리공정의  Package화 기술 개발\\n\\n\\n\\n\\...</td>\n",
       "      <td></td>\n",
       "      <td>1711063780</td>\n",
       "      <td>896</td>\n",
       "      <td>한국화학연구원연구운영비지원 지속가능한 화학산업을 위한 화학공정기술 개발 에너지 및 ...</td>\n",
       "    </tr>\n",
       "    <tr>\n",
       "      <th>4</th>\n",
       "      <td>2017</td>\n",
       "      <td>한국화학연구원</td>\n",
       "      <td>한국화학연구원연구운영비지원</td>\n",
       "      <td>시장선도형 신물질 파이프라인 및 기반기술 구축·개발</td>\n",
       "      <td>고수준 신약소재 확보를 통한 화합물은행 고도화사업</td>\n",
       "      <td>\"- 고품질 신약소재 화합물 라이브러리 확보\\n\\n\\n\\n\\n\\n- 화합물라이브러리...</td>\n",
       "      <td></td>\n",
       "      <td>1711063798</td>\n",
       "      <td>884</td>\n",
       "      <td>한국화학연구원연구운영비지원 시장선도형 신물질 파이프라인 및 기반기술 구축·개발 고수...</td>\n",
       "    </tr>\n",
       "  </tbody>\n",
       "</table>\n",
       "</div>"
      ],
      "text/plain": [
       "   year   agency          b_name                      b_detail  \\\n",
       "0  2017  한국화학연구원  한국화학연구원연구운영비지원  시장선도형 신물질 파이프라인 및 기반기술 구축·개발   \n",
       "1  2017  한국화학연구원  한국화학연구원연구운영비지원  시장선도형 신물질 파이프라인 및 기반기술 구축·개발   \n",
       "2  2017  한국화학연구원  한국화학연구원연구운영비지원         고부가가치 녹색 화학소재 원천기술 개발   \n",
       "3  2017  한국화학연구원  한국화학연구원연구운영비지원      지속가능한 화학산업을 위한 화학공정기술 개발   \n",
       "4  2017  한국화학연구원  한국화학연구원연구운영비지원  시장선도형 신물질 파이프라인 및 기반기술 구축·개발   \n",
       "\n",
       "                        ass_name  \\\n",
       "0    생명통합정보시스템 활용 독창적 신약개발협동연구사업   \n",
       "1               글로벌수준 신약플랫폼기술 확립   \n",
       "2              광에너지 융합소재 원천기술 개발   \n",
       "3  에너지 및 화학원료 확보를 위한 대형 융합플랜트 기술   \n",
       "4    고수준 신약소재 확보를 통한 화합물은행 고도화사업   \n",
       "\n",
       "                                         ass_content ass_detail      ass_no  \\\n",
       "0  1)SAE1/2 저해제 항암제 개발\\n\\n\\n\\n\\n\\n   - 구조-활성 상관관계...             1711063796   \n",
       "1                                                                1711063705   \n",
       "2  \"- 유기태양전지 핵심 소재 및 소자화 기술 개발\\n\\n\\n\\n\\n\\n   · 신규...             1711063692   \n",
       "3  \"\"\"정유·석유화학산업 반응·분리공정의  Package화 기술 개발\\n\\n\\n\\n\\...             1711063780   \n",
       "4  \"- 고품질 신약소재 화합물 라이브러리 확보\\n\\n\\n\\n\\n\\n- 화합물라이브러리...             1711063798   \n",
       "\n",
       "   user_no                                            content  \n",
       "0      875  한국화학연구원연구운영비지원 시장선도형 신물질 파이프라인 및 기반기술 구축·개발 생명...  \n",
       "1      904  한국화학연구원연구운영비지원 시장선도형 신물질 파이프라인 및 기반기술 구축·개발 글로...  \n",
       "2      907  한국화학연구원연구운영비지원 고부가가치 녹색 화학소재 원천기술 개발 광에너지 융합소재...  \n",
       "3      896  한국화학연구원연구운영비지원 지속가능한 화학산업을 위한 화학공정기술 개발 에너지 및 ...  \n",
       "4      884  한국화학연구원연구운영비지원 시장선도형 신물질 파이프라인 및 기반기술 구축·개발 고수...  "
      ]
     },
     "execution_count": 8,
     "metadata": {},
     "output_type": "execute_result"
    }
   ],
   "source": [
    "df_origin.head()"
   ]
  },
  {
   "cell_type": "code",
   "execution_count": 9,
   "id": "7a7eeb92-37e2-4cf4-9768-97aa6cb10763",
   "metadata": {},
   "outputs": [],
   "source": [
    "df = df_origin.copy()"
   ]
  },
  {
   "cell_type": "code",
   "execution_count": 10,
   "id": "a6742316-330f-4ff9-891e-9ef5bc10d1c5",
   "metadata": {},
   "outputs": [
    {
     "data": {
      "application/vnd.jupyter.widget-view+json": {
       "model_id": "40e60b83909945e18297494fc9659069",
       "version_major": 2,
       "version_minor": 0
      },
      "text/plain": [
       "Pandas Apply:   0%|          | 0/244709 [00:00<?, ?it/s]"
      ]
     },
     "metadata": {},
     "output_type": "display_data"
    }
   ],
   "source": [
    "df['content'] = df.content.swifter.apply(preprocessing)"
   ]
  },
  {
   "cell_type": "code",
   "execution_count": 11,
   "id": "08217cb1-7277-4866-9405-b2b2071f3783",
   "metadata": {},
   "outputs": [
    {
     "data": {
      "text/html": [
       "<div>\n",
       "<style scoped>\n",
       "    .dataframe tbody tr th:only-of-type {\n",
       "        vertical-align: middle;\n",
       "    }\n",
       "\n",
       "    .dataframe tbody tr th {\n",
       "        vertical-align: top;\n",
       "    }\n",
       "\n",
       "    .dataframe thead th {\n",
       "        text-align: right;\n",
       "    }\n",
       "</style>\n",
       "<table border=\"1\" class=\"dataframe\">\n",
       "  <thead>\n",
       "    <tr style=\"text-align: right;\">\n",
       "      <th></th>\n",
       "      <th>year</th>\n",
       "      <th>agency</th>\n",
       "      <th>b_name</th>\n",
       "      <th>b_detail</th>\n",
       "      <th>ass_name</th>\n",
       "      <th>ass_content</th>\n",
       "      <th>ass_detail</th>\n",
       "      <th>ass_no</th>\n",
       "      <th>user_no</th>\n",
       "      <th>content</th>\n",
       "    </tr>\n",
       "  </thead>\n",
       "  <tbody>\n",
       "    <tr>\n",
       "      <th>0</th>\n",
       "      <td>2017</td>\n",
       "      <td>한국화학연구원</td>\n",
       "      <td>한국화학연구원연구운영비지원</td>\n",
       "      <td>시장선도형 신물질 파이프라인 및 기반기술 구축·개발</td>\n",
       "      <td>생명통합정보시스템 활용 독창적 신약개발협동연구사업</td>\n",
       "      <td>1)SAE1/2 저해제 항암제 개발\\n\\n\\n\\n\\n\\n   - 구조-활성 상관관계...</td>\n",
       "      <td></td>\n",
       "      <td>1711063796</td>\n",
       "      <td>875</td>\n",
       "      <td>한국화학연구원연구운영비지원 시장선도형 신물질 파이프라인 및 기반기술 구축개발 생명통...</td>\n",
       "    </tr>\n",
       "    <tr>\n",
       "      <th>1</th>\n",
       "      <td>2017</td>\n",
       "      <td>한국화학연구원</td>\n",
       "      <td>한국화학연구원연구운영비지원</td>\n",
       "      <td>시장선도형 신물질 파이프라인 및 기반기술 구축·개발</td>\n",
       "      <td>글로벌수준 신약플랫폼기술 확립</td>\n",
       "      <td></td>\n",
       "      <td></td>\n",
       "      <td>1711063705</td>\n",
       "      <td>904</td>\n",
       "      <td>한국화학연구원연구운영비지원 시장선도형 신물질 파이프라인 및 기반기술 구축개발 글로벌...</td>\n",
       "    </tr>\n",
       "    <tr>\n",
       "      <th>2</th>\n",
       "      <td>2017</td>\n",
       "      <td>한국화학연구원</td>\n",
       "      <td>한국화학연구원연구운영비지원</td>\n",
       "      <td>고부가가치 녹색 화학소재 원천기술 개발</td>\n",
       "      <td>광에너지 융합소재 원천기술 개발</td>\n",
       "      <td>\"- 유기태양전지 핵심 소재 및 소자화 기술 개발\\n\\n\\n\\n\\n\\n   · 신규...</td>\n",
       "      <td></td>\n",
       "      <td>1711063692</td>\n",
       "      <td>907</td>\n",
       "      <td>한국화학연구원연구운영비지원 고부가가치 녹색 화학소재 원천기술 개발 광에너지 융합소재...</td>\n",
       "    </tr>\n",
       "    <tr>\n",
       "      <th>3</th>\n",
       "      <td>2017</td>\n",
       "      <td>한국화학연구원</td>\n",
       "      <td>한국화학연구원연구운영비지원</td>\n",
       "      <td>지속가능한 화학산업을 위한 화학공정기술 개발</td>\n",
       "      <td>에너지 및 화학원료 확보를 위한 대형 융합플랜트 기술</td>\n",
       "      <td>\"\"\"정유·석유화학산업 반응·분리공정의  Package화 기술 개발\\n\\n\\n\\n\\...</td>\n",
       "      <td></td>\n",
       "      <td>1711063780</td>\n",
       "      <td>896</td>\n",
       "      <td>한국화학연구원연구운영비지원 지속가능한 화학산업을 위한 화학공정기술 개발 에너지 및 ...</td>\n",
       "    </tr>\n",
       "    <tr>\n",
       "      <th>4</th>\n",
       "      <td>2017</td>\n",
       "      <td>한국화학연구원</td>\n",
       "      <td>한국화학연구원연구운영비지원</td>\n",
       "      <td>시장선도형 신물질 파이프라인 및 기반기술 구축·개발</td>\n",
       "      <td>고수준 신약소재 확보를 통한 화합물은행 고도화사업</td>\n",
       "      <td>\"- 고품질 신약소재 화합물 라이브러리 확보\\n\\n\\n\\n\\n\\n- 화합물라이브러리...</td>\n",
       "      <td></td>\n",
       "      <td>1711063798</td>\n",
       "      <td>884</td>\n",
       "      <td>한국화학연구원연구운영비지원 시장선도형 신물질 파이프라인 및 기반기술 구축개발 고수준...</td>\n",
       "    </tr>\n",
       "    <tr>\n",
       "      <th>5</th>\n",
       "      <td>2017</td>\n",
       "      <td>한국화학연구원</td>\n",
       "      <td>한국화학연구원연구운영비지원</td>\n",
       "      <td>화학인프라 전문기술 확보 및 종합솔루션 지원</td>\n",
       "      <td>중소기업지원사업</td>\n",
       "      <td></td>\n",
       "      <td></td>\n",
       "      <td>1711063725</td>\n",
       "      <td>889</td>\n",
       "      <td>한국화학연구원연구운영비지원 화학인프라 전문기술 확보 및 종합솔루션 지원 중소기업지원사업</td>\n",
       "    </tr>\n",
       "    <tr>\n",
       "      <th>6</th>\n",
       "      <td>2017</td>\n",
       "      <td>한국화학연구원</td>\n",
       "      <td>한국화학연구원연구운영비지원</td>\n",
       "      <td>화학인프라 전문기술 확보 및 종합솔루션 지원</td>\n",
       "      <td>화학분석기술 지원사업</td>\n",
       "      <td></td>\n",
       "      <td></td>\n",
       "      <td>1711063714</td>\n",
       "      <td>893</td>\n",
       "      <td>한국화학연구원연구운영비지원 화학인프라 전문기술 확보 및 종합솔루션 지원 화학분석기술...</td>\n",
       "    </tr>\n",
       "    <tr>\n",
       "      <th>7</th>\n",
       "      <td>2017</td>\n",
       "      <td>한국화학연구원</td>\n",
       "      <td>한국화학연구원연구운영비지원</td>\n",
       "      <td>시장선도형 신물질 파이프라인 및 기반기술 구축·개발</td>\n",
       "      <td>암 극복을 위한 개인맞춤형 치료기술 개발</td>\n",
       "      <td>1)ROS1, 저해 항암제 선도/초기후보물질 도출 \\n\\n\\n\\n\\n\\n   - 유...</td>\n",
       "      <td></td>\n",
       "      <td>1711063703</td>\n",
       "      <td>901</td>\n",
       "      <td>한국화학연구원연구운영비지원 시장선도형 신물질 파이프라인 및 기반기술 구축개발 암 극...</td>\n",
       "    </tr>\n",
       "    <tr>\n",
       "      <th>8</th>\n",
       "      <td>2017</td>\n",
       "      <td>한국화학연구원</td>\n",
       "      <td>한국화학연구원연구운영비지원</td>\n",
       "      <td>고부가가치 녹색 화학소재 원천기술 개발</td>\n",
       "      <td>IT·ET 융복합 산업 유기금속화합물 및 소자화 공정 개발</td>\n",
       "      <td>1) 개발 유기금속화합물 응용 분야\\n\\n\\n\\n\\n\\n   - 메모리 소자(DRA...</td>\n",
       "      <td></td>\n",
       "      <td>1711063793</td>\n",
       "      <td>886</td>\n",
       "      <td>한국화학연구원연구운영비지원 고부가가치 녹색 화학소재 원천기술 개발 ITET 융복합 ...</td>\n",
       "    </tr>\n",
       "    <tr>\n",
       "      <th>9</th>\n",
       "      <td>2017</td>\n",
       "      <td>한국화학연구원</td>\n",
       "      <td>한국화학연구원연구운영비지원</td>\n",
       "      <td>고부가가치 녹색 화학소재 원천기술 개발</td>\n",
       "      <td>화학시뮬레이션 플랫폼 기반 구축</td>\n",
       "      <td>？？지속적인 화학시뮬레이션 플랫폼 인프라 확장\\n\\n\\n\\n\\n\\n  ？ 하드웨어 ...</td>\n",
       "      <td></td>\n",
       "      <td>1711063794</td>\n",
       "      <td>887</td>\n",
       "      <td>한국화학연구원연구운영비지원 고부가가치 녹색 화학소재 원천기술 개발 화학시뮬레이션 플...</td>\n",
       "    </tr>\n",
       "    <tr>\n",
       "      <th>10</th>\n",
       "      <td>2017</td>\n",
       "      <td>한국화학연구원</td>\n",
       "      <td>한국화학연구원연구운영비지원</td>\n",
       "      <td>시장선도형 신물질 파이프라인 및 기반기술 구축·개발</td>\n",
       "      <td>초고감도 나노분광 이미징 응용기술 개발</td>\n",
       "      <td>\"소형시료용 (10mm x 10mm) 반사형 나노라만기술을 활용한다.\\n\\n\\n\\n...</td>\n",
       "      <td></td>\n",
       "      <td>1711063702</td>\n",
       "      <td>871</td>\n",
       "      <td>한국화학연구원연구운영비지원 시장선도형 신물질 파이프라인 및 기반기술 구축개발 초고감...</td>\n",
       "    </tr>\n",
       "    <tr>\n",
       "      <th>11</th>\n",
       "      <td>2017</td>\n",
       "      <td>한국화학연구원</td>\n",
       "      <td>한국화학연구원연구운영비지원</td>\n",
       "      <td>지속가능한 화학산업을 위한 화학공정기술 개발</td>\n",
       "      <td>C1가스로부터 석유화학 기초유분 및 청정액체연료 제조기술 개발</td>\n",
       "      <td>1) 합성가스로부터 액체연료 직접 제조용 이종기능 원천 촉매/공정 개발\\n\\n\\n\\...</td>\n",
       "      <td></td>\n",
       "      <td>1711063787</td>\n",
       "      <td>909</td>\n",
       "      <td>한국화학연구원연구운영비지원 지속가능한 화학산업을 위한 화학공정기술 개발 C1가스로부...</td>\n",
       "    </tr>\n",
       "    <tr>\n",
       "      <th>12</th>\n",
       "      <td>2017</td>\n",
       "      <td>한국화학연구원</td>\n",
       "      <td>한국화학연구원연구운영비지원</td>\n",
       "      <td>시설인프라사업</td>\n",
       "      <td>연구시설구축 및 환경개선사업</td>\n",
       "      <td></td>\n",
       "      <td></td>\n",
       "      <td>1711063802</td>\n",
       "      <td>914</td>\n",
       "      <td>한국화학연구원연구운영비지원 시설인프라사업 연구시설구축 및 환경개선사업</td>\n",
       "    </tr>\n",
       "    <tr>\n",
       "      <th>13</th>\n",
       "      <td>2017</td>\n",
       "      <td>한국화학연구원</td>\n",
       "      <td>한국화학연구원연구운영비지원</td>\n",
       "      <td>화학인프라 전문기술 확보 및 종합솔루션 지원</td>\n",
       "      <td>KRICT 디딤돌 사업 (중소중견기업 기술혁신역량 강화사업)</td>\n",
       "      <td>- 화학(연)과 공동연구 기회 부여(매칭펀드 방식 운영)\\n\\n\\n\\n\\n\\n- 화...</td>\n",
       "      <td></td>\n",
       "      <td>1711063756</td>\n",
       "      <td>911</td>\n",
       "      <td>한국화학연구원연구운영비지원 화학인프라 전문기술 확보 및 종합솔루션 지원 KRICT ...</td>\n",
       "    </tr>\n",
       "    <tr>\n",
       "      <th>14</th>\n",
       "      <td>2017</td>\n",
       "      <td>한국화학연구원</td>\n",
       "      <td>한국화학연구원연구운영비지원</td>\n",
       "      <td>화학인프라 전문기술 확보 및 종합솔루션 지원</td>\n",
       "      <td>산업계 연계형 기업매칭 공동연구과제</td>\n",
       "      <td>산업계와의 직접적인 사업연계를 통한 연구성과의 조기 실용화·확산을 적극 추진하고자 ...</td>\n",
       "      <td></td>\n",
       "      <td>1711063721</td>\n",
       "      <td>899</td>\n",
       "      <td>한국화학연구원연구운영비지원 화학인프라 전문기술 확보 및 종합솔루션 지원 산업계 연계...</td>\n",
       "    </tr>\n",
       "    <tr>\n",
       "      <th>15</th>\n",
       "      <td>2017</td>\n",
       "      <td>한국화학연구원</td>\n",
       "      <td>한국화학연구원연구운영비지원</td>\n",
       "      <td>미래성장동력창출 연구사업</td>\n",
       "      <td>연구기획정책협력사업</td>\n",
       "      <td>\"O 국가정책\\n\\n\\n\\n\\n\\n\\n\\n\\n\\n\\n\\n - 화학산업 발전전략 수립...</td>\n",
       "      <td></td>\n",
       "      <td>1711063723</td>\n",
       "      <td>899</td>\n",
       "      <td>한국화학연구원연구운영비지원 미래성장동력창출 연구사업 연구기획정책협력사업 국가정책 화...</td>\n",
       "    </tr>\n",
       "    <tr>\n",
       "      <th>16</th>\n",
       "      <td>2017</td>\n",
       "      <td>한국화학연구원</td>\n",
       "      <td>한국화학연구원연구운영비지원</td>\n",
       "      <td>미래성장동력창출 연구사업</td>\n",
       "      <td>미래성장동력 창출 연구사업</td>\n",
       "      <td>？ 미래유망 화학기술분야 신규 연구테마 발굴 및 연구사업 연계\\n\\n\\n\\n\\n\\n...</td>\n",
       "      <td></td>\n",
       "      <td>1711063724</td>\n",
       "      <td>899</td>\n",
       "      <td>한국화학연구원연구운영비지원 미래성장동력창출 연구사업 미래성장동력 창출 연구사업 미래...</td>\n",
       "    </tr>\n",
       "    <tr>\n",
       "      <th>17</th>\n",
       "      <td>2017</td>\n",
       "      <td>한국화학연구원</td>\n",
       "      <td>한국화학연구원연구운영비지원</td>\n",
       "      <td>화학인프라 전문기술 확보 및 종합솔루션 지원</td>\n",
       "      <td>주요사업 연구장비 구입사업</td>\n",
       "      <td></td>\n",
       "      <td></td>\n",
       "      <td>1711063777</td>\n",
       "      <td>899</td>\n",
       "      <td>한국화학연구원연구운영비지원 화학인프라 전문기술 확보 및 종합솔루션 지원 주요사업 연...</td>\n",
       "    </tr>\n",
       "    <tr>\n",
       "      <th>18</th>\n",
       "      <td>2017</td>\n",
       "      <td>한국화학연구원</td>\n",
       "      <td>한국화학연구원연구운영비지원</td>\n",
       "      <td>지속가능한 화학산업을 위한 화학공정기술 개발</td>\n",
       "      <td>고부가 화학제품 제조용 태양광 화학공장 원천기술 개발</td>\n",
       "      <td>) 광·바이오 융합 인공광합성 핵심 가시광 광촉매 개발 및 박막화\\n\\n\\n\\n\\n...</td>\n",
       "      <td></td>\n",
       "      <td>1711063782</td>\n",
       "      <td>898</td>\n",
       "      <td>한국화학연구원연구운영비지원 지속가능한 화학산업을 위한 화학공정기술 개발 고부가 화학...</td>\n",
       "    </tr>\n",
       "    <tr>\n",
       "      <th>19</th>\n",
       "      <td>2017</td>\n",
       "      <td>한국화학연구원</td>\n",
       "      <td>한국화학연구원연구운영비지원</td>\n",
       "      <td>고부가가치 녹색 화학소재 원천기술 개발</td>\n",
       "      <td>모바일산업용 고내열 핵심 화학소재 개발</td>\n",
       "      <td>\"저유전 매트릭스/방열 입자 적용 복합소재 최적화\\n\\n\\n\\n\\n\\n  - 저CT...</td>\n",
       "      <td></td>\n",
       "      <td>1711063697</td>\n",
       "      <td>869</td>\n",
       "      <td>한국화학연구원연구운영비지원 고부가가치 녹색 화학소재 원천기술 개발 모바일산업용 고내...</td>\n",
       "    </tr>\n",
       "  </tbody>\n",
       "</table>\n",
       "</div>"
      ],
      "text/plain": [
       "    year   agency          b_name                      b_detail  \\\n",
       "0   2017  한국화학연구원  한국화학연구원연구운영비지원  시장선도형 신물질 파이프라인 및 기반기술 구축·개발   \n",
       "1   2017  한국화학연구원  한국화학연구원연구운영비지원  시장선도형 신물질 파이프라인 및 기반기술 구축·개발   \n",
       "2   2017  한국화학연구원  한국화학연구원연구운영비지원         고부가가치 녹색 화학소재 원천기술 개발   \n",
       "3   2017  한국화학연구원  한국화학연구원연구운영비지원      지속가능한 화학산업을 위한 화학공정기술 개발   \n",
       "4   2017  한국화학연구원  한국화학연구원연구운영비지원  시장선도형 신물질 파이프라인 및 기반기술 구축·개발   \n",
       "5   2017  한국화학연구원  한국화학연구원연구운영비지원      화학인프라 전문기술 확보 및 종합솔루션 지원   \n",
       "6   2017  한국화학연구원  한국화학연구원연구운영비지원      화학인프라 전문기술 확보 및 종합솔루션 지원   \n",
       "7   2017  한국화학연구원  한국화학연구원연구운영비지원  시장선도형 신물질 파이프라인 및 기반기술 구축·개발   \n",
       "8   2017  한국화학연구원  한국화학연구원연구운영비지원         고부가가치 녹색 화학소재 원천기술 개발   \n",
       "9   2017  한국화학연구원  한국화학연구원연구운영비지원         고부가가치 녹색 화학소재 원천기술 개발   \n",
       "10  2017  한국화학연구원  한국화학연구원연구운영비지원  시장선도형 신물질 파이프라인 및 기반기술 구축·개발   \n",
       "11  2017  한국화학연구원  한국화학연구원연구운영비지원      지속가능한 화학산업을 위한 화학공정기술 개발   \n",
       "12  2017  한국화학연구원  한국화학연구원연구운영비지원                       시설인프라사업   \n",
       "13  2017  한국화학연구원  한국화학연구원연구운영비지원      화학인프라 전문기술 확보 및 종합솔루션 지원   \n",
       "14  2017  한국화학연구원  한국화학연구원연구운영비지원      화학인프라 전문기술 확보 및 종합솔루션 지원   \n",
       "15  2017  한국화학연구원  한국화학연구원연구운영비지원                 미래성장동력창출 연구사업   \n",
       "16  2017  한국화학연구원  한국화학연구원연구운영비지원                 미래성장동력창출 연구사업   \n",
       "17  2017  한국화학연구원  한국화학연구원연구운영비지원      화학인프라 전문기술 확보 및 종합솔루션 지원   \n",
       "18  2017  한국화학연구원  한국화학연구원연구운영비지원      지속가능한 화학산업을 위한 화학공정기술 개발   \n",
       "19  2017  한국화학연구원  한국화학연구원연구운영비지원         고부가가치 녹색 화학소재 원천기술 개발   \n",
       "\n",
       "                              ass_name  \\\n",
       "0          생명통합정보시스템 활용 독창적 신약개발협동연구사업   \n",
       "1                     글로벌수준 신약플랫폼기술 확립   \n",
       "2                    광에너지 융합소재 원천기술 개발   \n",
       "3        에너지 및 화학원료 확보를 위한 대형 융합플랜트 기술   \n",
       "4          고수준 신약소재 확보를 통한 화합물은행 고도화사업   \n",
       "5                             중소기업지원사업   \n",
       "6                          화학분석기술 지원사업   \n",
       "7               암 극복을 위한 개인맞춤형 치료기술 개발   \n",
       "8     IT·ET 융복합 산업 유기금속화합물 및 소자화 공정 개발   \n",
       "9                    화학시뮬레이션 플랫폼 기반 구축   \n",
       "10               초고감도 나노분광 이미징 응용기술 개발   \n",
       "11  C1가스로부터 석유화학 기초유분 및 청정액체연료 제조기술 개발   \n",
       "12                     연구시설구축 및 환경개선사업   \n",
       "13   KRICT 디딤돌 사업 (중소중견기업 기술혁신역량 강화사업)   \n",
       "14                 산업계 연계형 기업매칭 공동연구과제   \n",
       "15                          연구기획정책협력사업   \n",
       "16                      미래성장동력 창출 연구사업   \n",
       "17                      주요사업 연구장비 구입사업   \n",
       "18       고부가 화학제품 제조용 태양광 화학공장 원천기술 개발   \n",
       "19               모바일산업용 고내열 핵심 화학소재 개발   \n",
       "\n",
       "                                          ass_content ass_detail      ass_no  \\\n",
       "0   1)SAE1/2 저해제 항암제 개발\\n\\n\\n\\n\\n\\n   - 구조-활성 상관관계...             1711063796   \n",
       "1                                                                 1711063705   \n",
       "2   \"- 유기태양전지 핵심 소재 및 소자화 기술 개발\\n\\n\\n\\n\\n\\n   · 신규...             1711063692   \n",
       "3   \"\"\"정유·석유화학산업 반응·분리공정의  Package화 기술 개발\\n\\n\\n\\n\\...             1711063780   \n",
       "4   \"- 고품질 신약소재 화합물 라이브러리 확보\\n\\n\\n\\n\\n\\n- 화합물라이브러리...             1711063798   \n",
       "5                                                                 1711063725   \n",
       "6                                                                 1711063714   \n",
       "7   1)ROS1, 저해 항암제 선도/초기후보물질 도출 \\n\\n\\n\\n\\n\\n   - 유...             1711063703   \n",
       "8   1) 개발 유기금속화합물 응용 분야\\n\\n\\n\\n\\n\\n   - 메모리 소자(DRA...             1711063793   \n",
       "9   ？？지속적인 화학시뮬레이션 플랫폼 인프라 확장\\n\\n\\n\\n\\n\\n  ？ 하드웨어 ...             1711063794   \n",
       "10  \"소형시료용 (10mm x 10mm) 반사형 나노라만기술을 활용한다.\\n\\n\\n\\n...             1711063702   \n",
       "11  1) 합성가스로부터 액체연료 직접 제조용 이종기능 원천 촉매/공정 개발\\n\\n\\n\\...             1711063787   \n",
       "12                                                                1711063802   \n",
       "13  - 화학(연)과 공동연구 기회 부여(매칭펀드 방식 운영)\\n\\n\\n\\n\\n\\n- 화...             1711063756   \n",
       "14  산업계와의 직접적인 사업연계를 통한 연구성과의 조기 실용화·확산을 적극 추진하고자 ...             1711063721   \n",
       "15  \"O 국가정책\\n\\n\\n\\n\\n\\n\\n\\n\\n\\n\\n\\n - 화학산업 발전전략 수립...             1711063723   \n",
       "16  ？ 미래유망 화학기술분야 신규 연구테마 발굴 및 연구사업 연계\\n\\n\\n\\n\\n\\n...             1711063724   \n",
       "17                                                                1711063777   \n",
       "18  ) 광·바이오 융합 인공광합성 핵심 가시광 광촉매 개발 및 박막화\\n\\n\\n\\n\\n...             1711063782   \n",
       "19  \"저유전 매트릭스/방열 입자 적용 복합소재 최적화\\n\\n\\n\\n\\n\\n  - 저CT...             1711063697   \n",
       "\n",
       "    user_no                                            content  \n",
       "0       875  한국화학연구원연구운영비지원 시장선도형 신물질 파이프라인 및 기반기술 구축개발 생명통...  \n",
       "1       904  한국화학연구원연구운영비지원 시장선도형 신물질 파이프라인 및 기반기술 구축개발 글로벌...  \n",
       "2       907  한국화학연구원연구운영비지원 고부가가치 녹색 화학소재 원천기술 개발 광에너지 융합소재...  \n",
       "3       896  한국화학연구원연구운영비지원 지속가능한 화학산업을 위한 화학공정기술 개발 에너지 및 ...  \n",
       "4       884  한국화학연구원연구운영비지원 시장선도형 신물질 파이프라인 및 기반기술 구축개발 고수준...  \n",
       "5       889   한국화학연구원연구운영비지원 화학인프라 전문기술 확보 및 종합솔루션 지원 중소기업지원사업  \n",
       "6       893  한국화학연구원연구운영비지원 화학인프라 전문기술 확보 및 종합솔루션 지원 화학분석기술...  \n",
       "7       901  한국화학연구원연구운영비지원 시장선도형 신물질 파이프라인 및 기반기술 구축개발 암 극...  \n",
       "8       886  한국화학연구원연구운영비지원 고부가가치 녹색 화학소재 원천기술 개발 ITET 융복합 ...  \n",
       "9       887  한국화학연구원연구운영비지원 고부가가치 녹색 화학소재 원천기술 개발 화학시뮬레이션 플...  \n",
       "10      871  한국화학연구원연구운영비지원 시장선도형 신물질 파이프라인 및 기반기술 구축개발 초고감...  \n",
       "11      909  한국화학연구원연구운영비지원 지속가능한 화학산업을 위한 화학공정기술 개발 C1가스로부...  \n",
       "12      914             한국화학연구원연구운영비지원 시설인프라사업 연구시설구축 및 환경개선사업  \n",
       "13      911  한국화학연구원연구운영비지원 화학인프라 전문기술 확보 및 종합솔루션 지원 KRICT ...  \n",
       "14      899  한국화학연구원연구운영비지원 화학인프라 전문기술 확보 및 종합솔루션 지원 산업계 연계...  \n",
       "15      899  한국화학연구원연구운영비지원 미래성장동력창출 연구사업 연구기획정책협력사업 국가정책 화...  \n",
       "16      899  한국화학연구원연구운영비지원 미래성장동력창출 연구사업 미래성장동력 창출 연구사업 미래...  \n",
       "17      899  한국화학연구원연구운영비지원 화학인프라 전문기술 확보 및 종합솔루션 지원 주요사업 연...  \n",
       "18      898  한국화학연구원연구운영비지원 지속가능한 화학산업을 위한 화학공정기술 개발 고부가 화학...  \n",
       "19      869  한국화학연구원연구운영비지원 고부가가치 녹색 화학소재 원천기술 개발 모바일산업용 고내...  "
      ]
     },
     "execution_count": 11,
     "metadata": {},
     "output_type": "execute_result"
    }
   ],
   "source": [
    "df.head(20)"
   ]
  },
  {
   "cell_type": "code",
   "execution_count": 12,
   "id": "e4da027a-8cb0-43e7-8e12-dad7d03abd6e",
   "metadata": {},
   "outputs": [
    {
     "name": "stdout",
     "output_type": "stream",
     "text": [
      "df_origin : 한국화학연구원연구운영비지원 미래성장동력창출 연구사업 연구기획정책협력사업 \"O 국가정책\n",
      "\n",
      "\n",
      "\n",
      "\n",
      "\n",
      "\n",
      "\n",
      "\n",
      "\n",
      "\n",
      "\n",
      " - 화학산업 발전전략 수립\n",
      "\n",
      "\n",
      "\n",
      "\n",
      "\n",
      "\n",
      "\n",
      "\n",
      "\n",
      "\n",
      "\n",
      " - 의약품산업 발전전략 수립\n",
      "\n",
      "\n",
      "\n",
      "\n",
      "\n",
      "\n",
      "\n",
      "\n",
      "\n",
      "\n",
      "\n",
      " - 화학분야 산학연관 네트워크 구축\n",
      "\n",
      "\n",
      "\n",
      "\n",
      "\n",
      "\n",
      "\n",
      "\n",
      "\n",
      "\n",
      "\n",
      " - 녹색화학포럼 사무국 운영\n",
      "\n",
      "\n",
      "\n",
      "\n",
      "\n",
      "\n",
      "\n",
      "\n",
      "\n",
      "\n",
      "\n",
      " - 국내 유관기관과의 협력 관계 유지\n",
      "\n",
      "\n",
      "\n",
      "\n",
      "\n",
      "\n",
      "\n",
      "\n",
      "\n",
      "\n",
      "\n",
      " - 내부 정책기획위원회 및 정책실무위원회 운영\n",
      "\n",
      "\n",
      "\n",
      "\n",
      "\n",
      "\n",
      "\n",
      "\n",
      "\n",
      "\n",
      "\n",
      " - 화학 분야 시장정보 조사 및 분석 \n",
      "-------------------------------------------------------------------------------------------------------------------------------------------------------------------------------------------------------------------------------------------------------------\n",
      "df : 한국화학연구원연구운영비지원 미래성장동력창출 연구사업 연구기획정책협력사업 국가정책 화학산업 발전전략 수립 의약품산업 발전전략 수립 화학분야 산학연관 네트워크 구축 녹색화학포럼 사무국 운영 국내 유관기관과의 협력 관계 유지 내부 정책기획위원회 및 정책실무위원회 운영 화학 분야 시장정보 조사 및 분석\n"
     ]
    }
   ],
   "source": [
    "print(f\"df_origin : {df_origin['content'][15]}\")\n",
    "print(\"-------------------------------------------------------------------------------------------------------------------------------------------------------------------------------------------------------------------------------------------------------------\")\n",
    "print(f\"df : {df['content'][15]}\")"
   ]
  },
  {
   "cell_type": "markdown",
   "id": "3f06cca6-68af-46f6-83d3-6e2432518e97",
   "metadata": {},
   "source": [
    "# Data Save"
   ]
  },
  {
   "cell_type": "code",
   "execution_count": 13,
   "id": "c7b9b3b6-a3b3-4ad0-8684-7b38a4103852",
   "metadata": {},
   "outputs": [],
   "source": [
    "df = df[['year', 'agency', 'content', 'ass_no', 'user_no']]"
   ]
  },
  {
   "cell_type": "code",
   "execution_count": 14,
   "id": "287a101f-0a20-46b7-b674-82736f6f9a17",
   "metadata": {},
   "outputs": [
    {
     "data": {
      "text/html": [
       "<div>\n",
       "<style scoped>\n",
       "    .dataframe tbody tr th:only-of-type {\n",
       "        vertical-align: middle;\n",
       "    }\n",
       "\n",
       "    .dataframe tbody tr th {\n",
       "        vertical-align: top;\n",
       "    }\n",
       "\n",
       "    .dataframe thead th {\n",
       "        text-align: right;\n",
       "    }\n",
       "</style>\n",
       "<table border=\"1\" class=\"dataframe\">\n",
       "  <thead>\n",
       "    <tr style=\"text-align: right;\">\n",
       "      <th></th>\n",
       "      <th>year</th>\n",
       "      <th>agency</th>\n",
       "      <th>content</th>\n",
       "      <th>ass_no</th>\n",
       "      <th>user_no</th>\n",
       "    </tr>\n",
       "  </thead>\n",
       "  <tbody>\n",
       "    <tr>\n",
       "      <th>0</th>\n",
       "      <td>2017</td>\n",
       "      <td>한국화학연구원</td>\n",
       "      <td>한국화학연구원연구운영비지원 시장선도형 신물질 파이프라인 및 기반기술 구축개발 생명통...</td>\n",
       "      <td>1711063796</td>\n",
       "      <td>875</td>\n",
       "    </tr>\n",
       "    <tr>\n",
       "      <th>1</th>\n",
       "      <td>2017</td>\n",
       "      <td>한국화학연구원</td>\n",
       "      <td>한국화학연구원연구운영비지원 시장선도형 신물질 파이프라인 및 기반기술 구축개발 글로벌...</td>\n",
       "      <td>1711063705</td>\n",
       "      <td>904</td>\n",
       "    </tr>\n",
       "    <tr>\n",
       "      <th>2</th>\n",
       "      <td>2017</td>\n",
       "      <td>한국화학연구원</td>\n",
       "      <td>한국화학연구원연구운영비지원 고부가가치 녹색 화학소재 원천기술 개발 광에너지 융합소재...</td>\n",
       "      <td>1711063692</td>\n",
       "      <td>907</td>\n",
       "    </tr>\n",
       "    <tr>\n",
       "      <th>3</th>\n",
       "      <td>2017</td>\n",
       "      <td>한국화학연구원</td>\n",
       "      <td>한국화학연구원연구운영비지원 지속가능한 화학산업을 위한 화학공정기술 개발 에너지 및 ...</td>\n",
       "      <td>1711063780</td>\n",
       "      <td>896</td>\n",
       "    </tr>\n",
       "    <tr>\n",
       "      <th>4</th>\n",
       "      <td>2017</td>\n",
       "      <td>한국화학연구원</td>\n",
       "      <td>한국화학연구원연구운영비지원 시장선도형 신물질 파이프라인 및 기반기술 구축개발 고수준...</td>\n",
       "      <td>1711063798</td>\n",
       "      <td>884</td>\n",
       "    </tr>\n",
       "  </tbody>\n",
       "</table>\n",
       "</div>"
      ],
      "text/plain": [
       "   year   agency                                            content  \\\n",
       "0  2017  한국화학연구원  한국화학연구원연구운영비지원 시장선도형 신물질 파이프라인 및 기반기술 구축개발 생명통...   \n",
       "1  2017  한국화학연구원  한국화학연구원연구운영비지원 시장선도형 신물질 파이프라인 및 기반기술 구축개발 글로벌...   \n",
       "2  2017  한국화학연구원  한국화학연구원연구운영비지원 고부가가치 녹색 화학소재 원천기술 개발 광에너지 융합소재...   \n",
       "3  2017  한국화학연구원  한국화학연구원연구운영비지원 지속가능한 화학산업을 위한 화학공정기술 개발 에너지 및 ...   \n",
       "4  2017  한국화학연구원  한국화학연구원연구운영비지원 시장선도형 신물질 파이프라인 및 기반기술 구축개발 고수준...   \n",
       "\n",
       "       ass_no  user_no  \n",
       "0  1711063796      875  \n",
       "1  1711063705      904  \n",
       "2  1711063692      907  \n",
       "3  1711063780      896  \n",
       "4  1711063798      884  "
      ]
     },
     "execution_count": 14,
     "metadata": {},
     "output_type": "execute_result"
    }
   ],
   "source": [
    "df.head()"
   ]
  },
  {
   "cell_type": "code",
   "execution_count": 15,
   "id": "c96b8263-f4e9-451f-95ff-c29612f1f7f9",
   "metadata": {},
   "outputs": [
    {
     "name": "stdout",
     "output_type": "stream",
     "text": [
      "Saved 244709 records\n"
     ]
    }
   ],
   "source": [
    "fm.save(config.df_final_pickle_path, df)"
   ]
  },
  {
   "cell_type": "code",
   "execution_count": null,
   "id": "054f4d8f-0636-4b64-bd79-6d5b4cbd562e",
   "metadata": {},
   "outputs": [],
   "source": []
  }
 ],
 "metadata": {
  "kernelspec": {
   "display_name": "Python 3",
   "language": "python",
   "name": "python3"
  },
  "language_info": {
   "codemirror_mode": {
    "name": "ipython",
    "version": 3
   },
   "file_extension": ".py",
   "mimetype": "text/x-python",
   "name": "python",
   "nbconvert_exporter": "python",
   "pygments_lexer": "ipython3",
   "version": "3.8.10"
  }
 },
 "nbformat": 4,
 "nbformat_minor": 5
}

{
 "cells": [
  {
   "cell_type": "markdown",
   "id": "6b6f5de6-1f72-4fee-b556-43810305d2a2",
   "metadata": {},
   "source": [
    "# data check"
   ]
  },
  {
   "cell_type": "code",
   "execution_count": 1,
   "id": "b6321cf7-1cd6-4e1d-bc6f-6a1337e03c49",
   "metadata": {},
   "outputs": [],
   "source": [
    "import pandas as pd\n",
    "import config"
   ]
  },
  {
   "cell_type": "code",
   "execution_count": 2,
   "id": "2b73c839-5b0b-4033-99c5-9a7bdcecc13a",
   "metadata": {},
   "outputs": [],
   "source": [
    "df_user = pd.read_excel(config.df_user_path)"
   ]
  },
  {
   "cell_type": "code",
   "execution_count": 3,
   "id": "ee4996c0-59ef-4e5d-a939-0a5d74e764d2",
   "metadata": {},
   "outputs": [],
   "source": [
    "df_item = pd.read_excel(config.df_all_path)"
   ]
  },
  {
   "cell_type": "code",
   "execution_count": 10,
   "id": "c9c46864-569b-432a-9446-098a30329449",
   "metadata": {},
   "outputs": [],
   "source": [
    "df_item = df_item[['제출년도', '과제수행기관명', '사업명', '내역사업명', '과제명', '요약문_연구내용', '세부과제지원유형', '과제고유번호']]"
   ]
  },
  {
   "cell_type": "code",
   "execution_count": 11,
   "id": "b49e8167-6bda-46dd-b61e-0309e9c062ca",
   "metadata": {},
   "outputs": [
    {
     "data": {
      "text/html": [
       "<div>\n",
       "<style scoped>\n",
       "    .dataframe tbody tr th:only-of-type {\n",
       "        vertical-align: middle;\n",
       "    }\n",
       "\n",
       "    .dataframe tbody tr th {\n",
       "        vertical-align: top;\n",
       "    }\n",
       "\n",
       "    .dataframe thead th {\n",
       "        text-align: right;\n",
       "    }\n",
       "</style>\n",
       "<table border=\"1\" class=\"dataframe\">\n",
       "  <thead>\n",
       "    <tr style=\"text-align: right;\">\n",
       "      <th></th>\n",
       "      <th>제출년도</th>\n",
       "      <th>과제수행기관명</th>\n",
       "      <th>사업명</th>\n",
       "      <th>내역사업명</th>\n",
       "      <th>과제명</th>\n",
       "      <th>요약문_연구내용</th>\n",
       "      <th>세부과제지원유형</th>\n",
       "      <th>과제고유번호</th>\n",
       "    </tr>\n",
       "  </thead>\n",
       "  <tbody>\n",
       "    <tr>\n",
       "      <th>990560</th>\n",
       "      <td>2021</td>\n",
       "      <td>국립전파연구원</td>\n",
       "      <td>국립전파연구원(총액대상,기관기본경비,R&amp;D)</td>\n",
       "      <td>국립전파연구원(총액대상, R&amp;D)</td>\n",
       "      <td>기관기본경비(국립전파연구원(총액대상, R&amp;D))</td>\n",
       "      <td>NaN</td>\n",
       "      <td>하향식</td>\n",
       "      <td>1711152353</td>\n",
       "    </tr>\n",
       "    <tr>\n",
       "      <th>990561</th>\n",
       "      <td>2021</td>\n",
       "      <td>국립전파연구원</td>\n",
       "      <td>국립전파연구원(R&amp;D)</td>\n",
       "      <td>국립전파연구원(R&amp;D)</td>\n",
       "      <td>기관 기본경비(국립전파연구원(R&amp;D))</td>\n",
       "      <td>NaN</td>\n",
       "      <td>하향식</td>\n",
       "      <td>1711152354</td>\n",
       "    </tr>\n",
       "    <tr>\n",
       "      <th>990562</th>\n",
       "      <td>2021</td>\n",
       "      <td>한국전자통신연구원</td>\n",
       "      <td>긴급구조용지능형정밀측위기술개발(R&amp;D)</td>\n",
       "      <td>긴급구조용지능형정밀측위핵심기술및시제품개발</td>\n",
       "      <td>긴급구조 측위 미지원 단말에 대한 측위 연동 표준 개발</td>\n",
       "      <td>- 국내 긴급구조 측위시스템 분석\\n\\n  * 긴급구조기관(경찰청, 소방청) 상황실...</td>\n",
       "      <td>품목지정형</td>\n",
       "      <td>1711126370</td>\n",
       "    </tr>\n",
       "    <tr>\n",
       "      <th>990563</th>\n",
       "      <td>2021</td>\n",
       "      <td>한국전자통신연구원</td>\n",
       "      <td>긴급구조용지능형정밀측위기술개발(R&amp;D)</td>\n",
       "      <td>긴급구조용지능형정밀측위표준개발</td>\n",
       "      <td>긴급구조용 측위 품질 제고를 위한 GPS 음영 지역 내 다중신호패턴의 학습 기반 3...</td>\n",
       "      <td>- 군집 기반 멀티소스 수집데이터를 이용한 전국 단위 측위인프라 DB 갱신 기술 설...</td>\n",
       "      <td>품목지정형</td>\n",
       "      <td>1711126395</td>\n",
       "    </tr>\n",
       "    <tr>\n",
       "      <th>990564</th>\n",
       "      <td>2021</td>\n",
       "      <td>정보통신기획평가원</td>\n",
       "      <td>긴급구조용지능형정밀측위기술개발(R&amp;D)</td>\n",
       "      <td>긴급구조용지능형정밀측위기술개발(R&amp;D)(기획평가관리비)</td>\n",
       "      <td>긴급구조용지능형정밀측위기술개발(R&amp;D)(기획평가관리비)</td>\n",
       "      <td>NaN</td>\n",
       "      <td>하향식</td>\n",
       "      <td>1711149016</td>\n",
       "    </tr>\n",
       "  </tbody>\n",
       "</table>\n",
       "</div>"
      ],
      "text/plain": [
       "        제출년도    과제수행기관명                       사업명  \\\n",
       "990560  2021    국립전파연구원  국립전파연구원(총액대상,기관기본경비,R&D)   \n",
       "990561  2021    국립전파연구원              국립전파연구원(R&D)   \n",
       "990562  2021  한국전자통신연구원     긴급구조용지능형정밀측위기술개발(R&D)   \n",
       "990563  2021  한국전자통신연구원     긴급구조용지능형정밀측위기술개발(R&D)   \n",
       "990564  2021  정보통신기획평가원     긴급구조용지능형정밀측위기술개발(R&D)   \n",
       "\n",
       "                                 내역사업명  \\\n",
       "990560              국립전파연구원(총액대상, R&D)   \n",
       "990561                    국립전파연구원(R&D)   \n",
       "990562          긴급구조용지능형정밀측위핵심기술및시제품개발   \n",
       "990563                긴급구조용지능형정밀측위표준개발   \n",
       "990564  긴급구조용지능형정밀측위기술개발(R&D)(기획평가관리비)   \n",
       "\n",
       "                                                      과제명  \\\n",
       "990560                         기관기본경비(국립전파연구원(총액대상, R&D))   \n",
       "990561                              기관 기본경비(국립전파연구원(R&D))   \n",
       "990562                     긴급구조 측위 미지원 단말에 대한 측위 연동 표준 개발   \n",
       "990563  긴급구조용 측위 품질 제고를 위한 GPS 음영 지역 내 다중신호패턴의 학습 기반 3...   \n",
       "990564                     긴급구조용지능형정밀측위기술개발(R&D)(기획평가관리비)   \n",
       "\n",
       "                                                 요약문_연구내용 세부과제지원유형      과제고유번호  \n",
       "990560                                                NaN      하향식  1711152353  \n",
       "990561                                                NaN      하향식  1711152354  \n",
       "990562  - 국내 긴급구조 측위시스템 분석\\n\\n  * 긴급구조기관(경찰청, 소방청) 상황실...    품목지정형  1711126370  \n",
       "990563  - 군집 기반 멀티소스 수집데이터를 이용한 전국 단위 측위인프라 DB 갱신 기술 설...    품목지정형  1711126395  \n",
       "990564                                                NaN      하향식  1711149016  "
      ]
     },
     "execution_count": 11,
     "metadata": {},
     "output_type": "execute_result"
    }
   ],
   "source": [
    "df_item.tail()"
   ]
  },
  {
   "cell_type": "code",
   "execution_count": 8,
   "id": "6b6ae149-7b46-47c2-854e-a81e1bf24951",
   "metadata": {},
   "outputs": [
    {
     "data": {
      "text/plain": [
       "(990565, 9)"
      ]
     },
     "execution_count": 8,
     "metadata": {},
     "output_type": "execute_result"
    }
   ],
   "source": [
    "df_item.shape"
   ]
  },
  {
   "cell_type": "code",
   "execution_count": 6,
   "id": "e7ce79d1-a82a-48ef-a833-e375578916b2",
   "metadata": {},
   "outputs": [
    {
     "data": {
      "text/html": [
       "<div>\n",
       "<style scoped>\n",
       "    .dataframe tbody tr th:only-of-type {\n",
       "        vertical-align: middle;\n",
       "    }\n",
       "\n",
       "    .dataframe tbody tr th {\n",
       "        vertical-align: top;\n",
       "    }\n",
       "\n",
       "    .dataframe thead th {\n",
       "        text-align: right;\n",
       "    }\n",
       "</style>\n",
       "<table border=\"1\" class=\"dataframe\">\n",
       "  <thead>\n",
       "    <tr style=\"text-align: right;\">\n",
       "      <th></th>\n",
       "      <th>기준연도</th>\n",
       "      <th>과제고유번호</th>\n",
       "      <th>연구책임자 임의번호</th>\n",
       "    </tr>\n",
       "  </thead>\n",
       "  <tbody>\n",
       "    <tr>\n",
       "      <th>0</th>\n",
       "      <td>2017</td>\n",
       "      <td>1415156822</td>\n",
       "      <td>NaN</td>\n",
       "    </tr>\n",
       "    <tr>\n",
       "      <th>1</th>\n",
       "      <td>2017</td>\n",
       "      <td>1415156823</td>\n",
       "      <td>NaN</td>\n",
       "    </tr>\n",
       "    <tr>\n",
       "      <th>2</th>\n",
       "      <td>2017</td>\n",
       "      <td>1415156824</td>\n",
       "      <td>NaN</td>\n",
       "    </tr>\n",
       "    <tr>\n",
       "      <th>3</th>\n",
       "      <td>2017</td>\n",
       "      <td>1415156825</td>\n",
       "      <td>NaN</td>\n",
       "    </tr>\n",
       "    <tr>\n",
       "      <th>4</th>\n",
       "      <td>2017</td>\n",
       "      <td>1415156826</td>\n",
       "      <td>NaN</td>\n",
       "    </tr>\n",
       "  </tbody>\n",
       "</table>\n",
       "</div>"
      ],
      "text/plain": [
       "   기준연도      과제고유번호  연구책임자 임의번호\n",
       "0  2017  1415156822         NaN\n",
       "1  2017  1415156823         NaN\n",
       "2  2017  1415156824         NaN\n",
       "3  2017  1415156825         NaN\n",
       "4  2017  1415156826         NaN"
      ]
     },
     "execution_count": 6,
     "metadata": {},
     "output_type": "execute_result"
    }
   ],
   "source": [
    "df_user.head()"
   ]
  },
  {
   "cell_type": "code",
   "execution_count": 7,
   "id": "992b06df-a6d2-45ff-a1ce-49b43c89a859",
   "metadata": {},
   "outputs": [
    {
     "data": {
      "text/plain": [
       "기준연도          343511\n",
       "과제고유번호        343511\n",
       "연구책임자 임의번호    312027\n",
       "dtype: int64"
      ]
     },
     "execution_count": 7,
     "metadata": {},
     "output_type": "execute_result"
    }
   ],
   "source": [
    "df_user.count()"
   ]
  },
  {
   "cell_type": "markdown",
   "id": "1fdc880e-df0c-4248-bf08-ce41216a18ff",
   "metadata": {},
   "source": [
    "# data mapping"
   ]
  },
  {
   "cell_type": "code",
   "execution_count": 6,
   "id": "e0d846d3-45a2-41e7-8665-d7858d5df3a9",
   "metadata": {},
   "outputs": [
    {
     "data": {
      "text/html": [
       "<div>\n",
       "<style scoped>\n",
       "    .dataframe tbody tr th:only-of-type {\n",
       "        vertical-align: middle;\n",
       "    }\n",
       "\n",
       "    .dataframe tbody tr th {\n",
       "        vertical-align: top;\n",
       "    }\n",
       "\n",
       "    .dataframe thead th {\n",
       "        text-align: right;\n",
       "    }\n",
       "</style>\n",
       "<table border=\"1\" class=\"dataframe\">\n",
       "  <thead>\n",
       "    <tr style=\"text-align: right;\">\n",
       "      <th></th>\n",
       "      <th>Unnamed: 0</th>\n",
       "      <th>제출년도</th>\n",
       "      <th>과제수행기관명</th>\n",
       "      <th>사업명</th>\n",
       "      <th>내역사업명</th>\n",
       "      <th>과제명</th>\n",
       "      <th>요약문_연구내용</th>\n",
       "      <th>세부과제지원유형</th>\n",
       "      <th>과제고유번호</th>\n",
       "    </tr>\n",
       "  </thead>\n",
       "  <tbody>\n",
       "    <tr>\n",
       "      <th>0</th>\n",
       "      <td>0</td>\n",
       "      <td>1999</td>\n",
       "      <td>NaN</td>\n",
       "      <td>농업기술공동연구</td>\n",
       "      <td>NaN</td>\n",
       "      <td>유전자조작에 의한 고Caroten oid 함량 고추분자육종소재개발</td>\n",
       "      <td>NaN</td>\n",
       "      <td>NaN</td>\n",
       "      <td>1395009431</td>\n",
       "    </tr>\n",
       "    <tr>\n",
       "      <th>1</th>\n",
       "      <td>1</td>\n",
       "      <td>1999</td>\n",
       "      <td>NaN</td>\n",
       "      <td>농업기술공동연구</td>\n",
       "      <td>NaN</td>\n",
       "      <td>환경보전형 농업을 위한 식물생장 촉진 미생물 개발</td>\n",
       "      <td>NaN</td>\n",
       "      <td>NaN</td>\n",
       "      <td>1395009432</td>\n",
       "    </tr>\n",
       "    <tr>\n",
       "      <th>2</th>\n",
       "      <td>2</td>\n",
       "      <td>1999</td>\n",
       "      <td>NaN</td>\n",
       "      <td>농업기술공동연구</td>\n",
       "      <td>NaN</td>\n",
       "      <td>농촌 현장 공동기술 개발</td>\n",
       "      <td>NaN</td>\n",
       "      <td>NaN</td>\n",
       "      <td>1395009260</td>\n",
       "    </tr>\n",
       "    <tr>\n",
       "      <th>3</th>\n",
       "      <td>3</td>\n",
       "      <td>1999</td>\n",
       "      <td>NaN</td>\n",
       "      <td>농업기술공동연구</td>\n",
       "      <td>NaN</td>\n",
       "      <td>환경친화형 정밀농업 기술 개발 연구</td>\n",
       "      <td>NaN</td>\n",
       "      <td>NaN</td>\n",
       "      <td>1395009384</td>\n",
       "    </tr>\n",
       "    <tr>\n",
       "      <th>4</th>\n",
       "      <td>4</td>\n",
       "      <td>1999</td>\n",
       "      <td>NaN</td>\n",
       "      <td>농업기술공동연구</td>\n",
       "      <td>NaN</td>\n",
       "      <td>농업용 신소재  및 실용화 기술 개발</td>\n",
       "      <td>NaN</td>\n",
       "      <td>NaN</td>\n",
       "      <td>1395009284</td>\n",
       "    </tr>\n",
       "  </tbody>\n",
       "</table>\n",
       "</div>"
      ],
      "text/plain": [
       "   Unnamed: 0  제출년도 과제수행기관명       사업명 내역사업명  \\\n",
       "0           0  1999     NaN  농업기술공동연구   NaN   \n",
       "1           1  1999     NaN  농업기술공동연구   NaN   \n",
       "2           2  1999     NaN  농업기술공동연구   NaN   \n",
       "3           3  1999     NaN  농업기술공동연구   NaN   \n",
       "4           4  1999     NaN  농업기술공동연구   NaN   \n",
       "\n",
       "                                    과제명 요약문_연구내용 세부과제지원유형      과제고유번호  \n",
       "0  유전자조작에 의한 고Caroten oid 함량 고추분자육종소재개발      NaN      NaN  1395009431  \n",
       "1           환경보전형 농업을 위한 식물생장 촉진 미생물 개발      NaN      NaN  1395009432  \n",
       "2                         농촌 현장 공동기술 개발      NaN      NaN  1395009260  \n",
       "3                   환경친화형 정밀농업 기술 개발 연구      NaN      NaN  1395009384  \n",
       "4                  농업용 신소재  및 실용화 기술 개발      NaN      NaN  1395009284  "
      ]
     },
     "execution_count": 6,
     "metadata": {},
     "output_type": "execute_result"
    }
   ],
   "source": [
    "df_item.head()"
   ]
  },
  {
   "cell_type": "code",
   "execution_count": 7,
   "id": "fb6d2caa-ad04-45b2-b460-082ea9b7fa78",
   "metadata": {},
   "outputs": [
    {
     "data": {
      "text/plain": [
       "(990565, 9)"
      ]
     },
     "execution_count": 7,
     "metadata": {},
     "output_type": "execute_result"
    }
   ],
   "source": [
    "df_item.shape"
   ]
  },
  {
   "cell_type": "code",
   "execution_count": 8,
   "id": "3afab2b3-569d-4391-8647-f5c277d8a822",
   "metadata": {},
   "outputs": [],
   "source": [
    "df_item.rename(columns={'제출년도':'year', '과제수행기관명':'agency', '사업명':'b_name', '내역사업명':'b_detail', '과제명':'ass_name', '요약문_연구내용':'ass_content', '세부과제지원유형':'ass_detail', '과제고유번호':'ass_no'}, inplace=True)"
   ]
  },
  {
   "cell_type": "code",
   "execution_count": 9,
   "id": "9afeb9ca-de2e-4e36-a301-99d1cfc546ae",
   "metadata": {},
   "outputs": [],
   "source": [
    "df_user.rename(columns={'기준연도':'year', '과제고유번호':'ass_no', '연구책임자 임의번호':'user_no'}, inplace=True)"
   ]
  },
  {
   "cell_type": "code",
   "execution_count": 10,
   "id": "29a1be3c-08e5-4b8e-b5f3-5622e196bd20",
   "metadata": {},
   "outputs": [],
   "source": [
    "# user_id null 31,484 제외\n",
    "df_user = df_user[~df_user.user_no.isnull()]"
   ]
  },
  {
   "cell_type": "code",
   "execution_count": 11,
   "id": "0ce18fb2-8021-4fd6-a7f4-3f3efc8174c1",
   "metadata": {},
   "outputs": [
    {
     "data": {
      "text/plain": [
       "year       312027\n",
       "ass_no     312027\n",
       "user_no    312027\n",
       "dtype: int64"
      ]
     },
     "execution_count": 11,
     "metadata": {},
     "output_type": "execute_result"
    }
   ],
   "source": [
    "df_user.count()"
   ]
  },
  {
   "cell_type": "code",
   "execution_count": 12,
   "id": "e5a88e86-fe7a-48ab-8e6f-2543a871b594",
   "metadata": {},
   "outputs": [
    {
     "name": "stdout",
     "output_type": "stream",
     "text": [
      "(312027, 3)\n",
      "(990565, 9)\n"
     ]
    }
   ],
   "source": [
    "print(df_user.shape)\n",
    "print(df_item.shape)"
   ]
  },
  {
   "cell_type": "code",
   "execution_count": 13,
   "id": "36c40dd1-a5e4-40e8-8b54-6c7d0127506d",
   "metadata": {},
   "outputs": [],
   "source": [
    "# df_LEFT_JOIN = pd.merge(dataframe_A, dataframe_B, left_on='key', right_on='key', how='left')\n",
    "df = pd.merge(df_item, df_user, left_on='ass_no', right_on='ass_no', how='left')"
   ]
  },
  {
   "cell_type": "code",
   "execution_count": 14,
   "id": "74851a5d-caeb-49de-bb33-51f4467e1a2d",
   "metadata": {},
   "outputs": [
    {
     "data": {
      "text/plain": [
       "(990565, 11)"
      ]
     },
     "execution_count": 14,
     "metadata": {},
     "output_type": "execute_result"
    }
   ],
   "source": [
    "df.shape"
   ]
  },
  {
   "cell_type": "code",
   "execution_count": 16,
   "id": "f09801b5-5b1b-4616-9d8b-afe6ff73c97a",
   "metadata": {},
   "outputs": [],
   "source": [
    "df_count = df[df.user_no.isnull()]"
   ]
  },
  {
   "cell_type": "code",
   "execution_count": 17,
   "id": "32d33af4-dd1b-43a4-b08d-0aa3de47a3a7",
   "metadata": {},
   "outputs": [
    {
     "data": {
      "text/plain": [
       "(678538, 11)"
      ]
     },
     "execution_count": 17,
     "metadata": {},
     "output_type": "execute_result"
    }
   ],
   "source": [
    "df_count.shape"
   ]
  },
  {
   "cell_type": "code",
   "execution_count": 18,
   "id": "ca6e20db-ae60-4e4a-815e-855e2ce6e946",
   "metadata": {},
   "outputs": [
    {
     "data": {
      "text/html": [
       "<div>\n",
       "<style scoped>\n",
       "    .dataframe tbody tr th:only-of-type {\n",
       "        vertical-align: middle;\n",
       "    }\n",
       "\n",
       "    .dataframe tbody tr th {\n",
       "        vertical-align: top;\n",
       "    }\n",
       "\n",
       "    .dataframe thead th {\n",
       "        text-align: right;\n",
       "    }\n",
       "</style>\n",
       "<table border=\"1\" class=\"dataframe\">\n",
       "  <thead>\n",
       "    <tr style=\"text-align: right;\">\n",
       "      <th></th>\n",
       "      <th>Unnamed: 0</th>\n",
       "      <th>year_x</th>\n",
       "      <th>agency</th>\n",
       "      <th>b_name</th>\n",
       "      <th>b_detail</th>\n",
       "      <th>ass_name</th>\n",
       "      <th>ass_content</th>\n",
       "      <th>ass_detail</th>\n",
       "      <th>ass_no</th>\n",
       "      <th>year_y</th>\n",
       "      <th>user_no</th>\n",
       "    </tr>\n",
       "  </thead>\n",
       "  <tbody>\n",
       "    <tr>\n",
       "      <th>0</th>\n",
       "      <td>0</td>\n",
       "      <td>1999</td>\n",
       "      <td>NaN</td>\n",
       "      <td>농업기술공동연구</td>\n",
       "      <td>NaN</td>\n",
       "      <td>유전자조작에 의한 고Caroten oid 함량 고추분자육종소재개발</td>\n",
       "      <td>NaN</td>\n",
       "      <td>NaN</td>\n",
       "      <td>1395009431</td>\n",
       "      <td>NaN</td>\n",
       "      <td>NaN</td>\n",
       "    </tr>\n",
       "    <tr>\n",
       "      <th>1</th>\n",
       "      <td>1</td>\n",
       "      <td>1999</td>\n",
       "      <td>NaN</td>\n",
       "      <td>농업기술공동연구</td>\n",
       "      <td>NaN</td>\n",
       "      <td>환경보전형 농업을 위한 식물생장 촉진 미생물 개발</td>\n",
       "      <td>NaN</td>\n",
       "      <td>NaN</td>\n",
       "      <td>1395009432</td>\n",
       "      <td>NaN</td>\n",
       "      <td>NaN</td>\n",
       "    </tr>\n",
       "    <tr>\n",
       "      <th>2</th>\n",
       "      <td>2</td>\n",
       "      <td>1999</td>\n",
       "      <td>NaN</td>\n",
       "      <td>농업기술공동연구</td>\n",
       "      <td>NaN</td>\n",
       "      <td>농촌 현장 공동기술 개발</td>\n",
       "      <td>NaN</td>\n",
       "      <td>NaN</td>\n",
       "      <td>1395009260</td>\n",
       "      <td>NaN</td>\n",
       "      <td>NaN</td>\n",
       "    </tr>\n",
       "    <tr>\n",
       "      <th>3</th>\n",
       "      <td>3</td>\n",
       "      <td>1999</td>\n",
       "      <td>NaN</td>\n",
       "      <td>농업기술공동연구</td>\n",
       "      <td>NaN</td>\n",
       "      <td>환경친화형 정밀농업 기술 개발 연구</td>\n",
       "      <td>NaN</td>\n",
       "      <td>NaN</td>\n",
       "      <td>1395009384</td>\n",
       "      <td>NaN</td>\n",
       "      <td>NaN</td>\n",
       "    </tr>\n",
       "    <tr>\n",
       "      <th>4</th>\n",
       "      <td>4</td>\n",
       "      <td>1999</td>\n",
       "      <td>NaN</td>\n",
       "      <td>농업기술공동연구</td>\n",
       "      <td>NaN</td>\n",
       "      <td>농업용 신소재  및 실용화 기술 개발</td>\n",
       "      <td>NaN</td>\n",
       "      <td>NaN</td>\n",
       "      <td>1395009284</td>\n",
       "      <td>NaN</td>\n",
       "      <td>NaN</td>\n",
       "    </tr>\n",
       "  </tbody>\n",
       "</table>\n",
       "</div>"
      ],
      "text/plain": [
       "   Unnamed: 0  year_x agency    b_name b_detail  \\\n",
       "0           0    1999    NaN  농업기술공동연구      NaN   \n",
       "1           1    1999    NaN  농업기술공동연구      NaN   \n",
       "2           2    1999    NaN  농업기술공동연구      NaN   \n",
       "3           3    1999    NaN  농업기술공동연구      NaN   \n",
       "4           4    1999    NaN  농업기술공동연구      NaN   \n",
       "\n",
       "                               ass_name ass_content ass_detail      ass_no  \\\n",
       "0  유전자조작에 의한 고Caroten oid 함량 고추분자육종소재개발         NaN        NaN  1395009431   \n",
       "1           환경보전형 농업을 위한 식물생장 촉진 미생물 개발         NaN        NaN  1395009432   \n",
       "2                         농촌 현장 공동기술 개발         NaN        NaN  1395009260   \n",
       "3                   환경친화형 정밀농업 기술 개발 연구         NaN        NaN  1395009384   \n",
       "4                  농업용 신소재  및 실용화 기술 개발         NaN        NaN  1395009284   \n",
       "\n",
       "   year_y  user_no  \n",
       "0     NaN      NaN  \n",
       "1     NaN      NaN  \n",
       "2     NaN      NaN  \n",
       "3     NaN      NaN  \n",
       "4     NaN      NaN  "
      ]
     },
     "execution_count": 18,
     "metadata": {},
     "output_type": "execute_result"
    }
   ],
   "source": [
    "df.head()"
   ]
  },
  {
   "cell_type": "code",
   "execution_count": 19,
   "id": "ba509ccd-c5b7-4cb5-870e-48523f49c5ed",
   "metadata": {},
   "outputs": [],
   "source": [
    "df = df[~df.user_no.isnull()]"
   ]
  },
  {
   "cell_type": "code",
   "execution_count": 20,
   "id": "1a425b72-fa2f-4713-b49e-5ede2e63aba8",
   "metadata": {},
   "outputs": [],
   "source": [
    "df = df[['year_x', 'agency', 'b_name', 'b_detail', 'ass_name', 'ass_content', 'ass_detail', 'ass_no', 'user_no']]"
   ]
  },
  {
   "cell_type": "code",
   "execution_count": 21,
   "id": "524ab934-0e65-44a5-bb52-82c4d7790dca",
   "metadata": {},
   "outputs": [],
   "source": [
    "df.rename(columns={'year_x':'year'}, inplace=True)"
   ]
  },
  {
   "cell_type": "code",
   "execution_count": 25,
   "id": "935fdd9a-daab-41ed-b720-badb5bb02c14",
   "metadata": {},
   "outputs": [
    {
     "data": {
      "text/html": [
       "<div>\n",
       "<style scoped>\n",
       "    .dataframe tbody tr th:only-of-type {\n",
       "        vertical-align: middle;\n",
       "    }\n",
       "\n",
       "    .dataframe tbody tr th {\n",
       "        vertical-align: top;\n",
       "    }\n",
       "\n",
       "    .dataframe thead th {\n",
       "        text-align: right;\n",
       "    }\n",
       "</style>\n",
       "<table border=\"1\" class=\"dataframe\">\n",
       "  <thead>\n",
       "    <tr style=\"text-align: right;\">\n",
       "      <th></th>\n",
       "      <th>year</th>\n",
       "      <th>agency</th>\n",
       "      <th>b_name</th>\n",
       "      <th>b_detail</th>\n",
       "      <th>ass_name</th>\n",
       "      <th>ass_content</th>\n",
       "      <th>ass_detail</th>\n",
       "      <th>ass_no</th>\n",
       "      <th>user_no</th>\n",
       "    </tr>\n",
       "  </thead>\n",
       "  <tbody>\n",
       "    <tr>\n",
       "      <th>647054</th>\n",
       "      <td>2017</td>\n",
       "      <td>한국화학연구원</td>\n",
       "      <td>한국화학연구원연구운영비지원</td>\n",
       "      <td>시장선도형 신물질 파이프라인 및 기반기술 구축·개발</td>\n",
       "      <td>생명통합정보시스템 활용 독창적 신약개발협동연구사업</td>\n",
       "      <td>1)SAE1/2 저해제 항암제 개발\\n\\n\\n\\n\\n\\n   - 구조-활성 상관관계...</td>\n",
       "      <td>NaN</td>\n",
       "      <td>1711063796</td>\n",
       "      <td>875</td>\n",
       "    </tr>\n",
       "    <tr>\n",
       "      <th>647055</th>\n",
       "      <td>2017</td>\n",
       "      <td>한국화학연구원</td>\n",
       "      <td>한국화학연구원연구운영비지원</td>\n",
       "      <td>시장선도형 신물질 파이프라인 및 기반기술 구축·개발</td>\n",
       "      <td>글로벌수준 신약플랫폼기술 확립</td>\n",
       "      <td>NaN</td>\n",
       "      <td>NaN</td>\n",
       "      <td>1711063705</td>\n",
       "      <td>904</td>\n",
       "    </tr>\n",
       "    <tr>\n",
       "      <th>647056</th>\n",
       "      <td>2017</td>\n",
       "      <td>한국화학연구원</td>\n",
       "      <td>한국화학연구원연구운영비지원</td>\n",
       "      <td>고부가가치 녹색 화학소재 원천기술 개발</td>\n",
       "      <td>광에너지 융합소재 원천기술 개발</td>\n",
       "      <td>\"- 유기태양전지 핵심 소재 및 소자화 기술 개발\\n\\n\\n\\n\\n\\n   · 신규...</td>\n",
       "      <td>NaN</td>\n",
       "      <td>1711063692</td>\n",
       "      <td>907</td>\n",
       "    </tr>\n",
       "    <tr>\n",
       "      <th>647057</th>\n",
       "      <td>2017</td>\n",
       "      <td>한국화학연구원</td>\n",
       "      <td>한국화학연구원연구운영비지원</td>\n",
       "      <td>지속가능한 화학산업을 위한 화학공정기술 개발</td>\n",
       "      <td>에너지 및 화학원료 확보를 위한 대형 융합플랜트 기술</td>\n",
       "      <td>\"\"\"정유·석유화학산업 반응·분리공정의  Package화 기술 개발\\n\\n\\n\\n\\...</td>\n",
       "      <td>NaN</td>\n",
       "      <td>1711063780</td>\n",
       "      <td>896</td>\n",
       "    </tr>\n",
       "    <tr>\n",
       "      <th>647058</th>\n",
       "      <td>2017</td>\n",
       "      <td>한국화학연구원</td>\n",
       "      <td>한국화학연구원연구운영비지원</td>\n",
       "      <td>시장선도형 신물질 파이프라인 및 기반기술 구축·개발</td>\n",
       "      <td>고수준 신약소재 확보를 통한 화합물은행 고도화사업</td>\n",
       "      <td>\"- 고품질 신약소재 화합물 라이브러리 확보\\n\\n\\n\\n\\n\\n- 화합물라이브러리...</td>\n",
       "      <td>NaN</td>\n",
       "      <td>1711063798</td>\n",
       "      <td>884</td>\n",
       "    </tr>\n",
       "  </tbody>\n",
       "</table>\n",
       "</div>"
      ],
      "text/plain": [
       "        year   agency          b_name                      b_detail  \\\n",
       "647054  2017  한국화학연구원  한국화학연구원연구운영비지원  시장선도형 신물질 파이프라인 및 기반기술 구축·개발   \n",
       "647055  2017  한국화학연구원  한국화학연구원연구운영비지원  시장선도형 신물질 파이프라인 및 기반기술 구축·개발   \n",
       "647056  2017  한국화학연구원  한국화학연구원연구운영비지원         고부가가치 녹색 화학소재 원천기술 개발   \n",
       "647057  2017  한국화학연구원  한국화학연구원연구운영비지원      지속가능한 화학산업을 위한 화학공정기술 개발   \n",
       "647058  2017  한국화학연구원  한국화학연구원연구운영비지원  시장선도형 신물질 파이프라인 및 기반기술 구축·개발   \n",
       "\n",
       "                             ass_name  \\\n",
       "647054    생명통합정보시스템 활용 독창적 신약개발협동연구사업   \n",
       "647055               글로벌수준 신약플랫폼기술 확립   \n",
       "647056              광에너지 융합소재 원천기술 개발   \n",
       "647057  에너지 및 화학원료 확보를 위한 대형 융합플랜트 기술   \n",
       "647058    고수준 신약소재 확보를 통한 화합물은행 고도화사업   \n",
       "\n",
       "                                              ass_content ass_detail  \\\n",
       "647054  1)SAE1/2 저해제 항암제 개발\\n\\n\\n\\n\\n\\n   - 구조-활성 상관관계...        NaN   \n",
       "647055                                                NaN        NaN   \n",
       "647056  \"- 유기태양전지 핵심 소재 및 소자화 기술 개발\\n\\n\\n\\n\\n\\n   · 신규...        NaN   \n",
       "647057  \"\"\"정유·석유화학산업 반응·분리공정의  Package화 기술 개발\\n\\n\\n\\n\\...        NaN   \n",
       "647058  \"- 고품질 신약소재 화합물 라이브러리 확보\\n\\n\\n\\n\\n\\n- 화합물라이브러리...        NaN   \n",
       "\n",
       "            ass_no user_no  \n",
       "647054  1711063796     875  \n",
       "647055  1711063705     904  \n",
       "647056  1711063692     907  \n",
       "647057  1711063780     896  \n",
       "647058  1711063798     884  "
      ]
     },
     "execution_count": 25,
     "metadata": {},
     "output_type": "execute_result"
    }
   ],
   "source": [
    "df.head()"
   ]
  },
  {
   "cell_type": "code",
   "execution_count": 22,
   "id": "7b8cfefd-d341-400b-bfa5-dc61770c1051",
   "metadata": {},
   "outputs": [],
   "source": [
    "df['user_no'] = df.user_no.apply(lambda x: str(round(int(x), 0)))"
   ]
  },
  {
   "cell_type": "code",
   "execution_count": 27,
   "id": "b5656c29-50ae-40d1-9bf3-2d74a8a30705",
   "metadata": {},
   "outputs": [
    {
     "data": {
      "text/html": [
       "<div>\n",
       "<style scoped>\n",
       "    .dataframe tbody tr th:only-of-type {\n",
       "        vertical-align: middle;\n",
       "    }\n",
       "\n",
       "    .dataframe tbody tr th {\n",
       "        vertical-align: top;\n",
       "    }\n",
       "\n",
       "    .dataframe thead th {\n",
       "        text-align: right;\n",
       "    }\n",
       "</style>\n",
       "<table border=\"1\" class=\"dataframe\">\n",
       "  <thead>\n",
       "    <tr style=\"text-align: right;\">\n",
       "      <th></th>\n",
       "      <th>year</th>\n",
       "      <th>agency</th>\n",
       "      <th>b_name</th>\n",
       "      <th>b_detail</th>\n",
       "      <th>ass_name</th>\n",
       "      <th>ass_content</th>\n",
       "      <th>ass_detail</th>\n",
       "      <th>ass_no</th>\n",
       "      <th>user_no</th>\n",
       "    </tr>\n",
       "  </thead>\n",
       "  <tbody>\n",
       "    <tr>\n",
       "      <th>647054</th>\n",
       "      <td>2017</td>\n",
       "      <td>한국화학연구원</td>\n",
       "      <td>한국화학연구원연구운영비지원</td>\n",
       "      <td>시장선도형 신물질 파이프라인 및 기반기술 구축·개발</td>\n",
       "      <td>생명통합정보시스템 활용 독창적 신약개발협동연구사업</td>\n",
       "      <td>1)SAE1/2 저해제 항암제 개발\\n\\n\\n\\n\\n\\n   - 구조-활성 상관관계...</td>\n",
       "      <td>NaN</td>\n",
       "      <td>1711063796</td>\n",
       "      <td>875</td>\n",
       "    </tr>\n",
       "    <tr>\n",
       "      <th>753227</th>\n",
       "      <td>2018</td>\n",
       "      <td>한국화학연구원</td>\n",
       "      <td>한국화학연구원연구운영비지원(주요사업비)</td>\n",
       "      <td>시장선도형 신물질 파이프라인 및 기반기술 구축·개발</td>\n",
       "      <td>생명통합정보시스템 활용 독창적 신약개발협동연구사업</td>\n",
       "      <td>1)SAE1/2 저해제 항암제 개발\\n\\n\\n\\n\\n\\n   - 구조-활성 상관관계...</td>\n",
       "      <td>하향식</td>\n",
       "      <td>1711080637</td>\n",
       "      <td>875</td>\n",
       "    </tr>\n",
       "  </tbody>\n",
       "</table>\n",
       "</div>"
      ],
      "text/plain": [
       "        year   agency                 b_name                      b_detail  \\\n",
       "647054  2017  한국화학연구원         한국화학연구원연구운영비지원  시장선도형 신물질 파이프라인 및 기반기술 구축·개발   \n",
       "753227  2018  한국화학연구원  한국화학연구원연구운영비지원(주요사업비)  시장선도형 신물질 파이프라인 및 기반기술 구축·개발   \n",
       "\n",
       "                           ass_name  \\\n",
       "647054  생명통합정보시스템 활용 독창적 신약개발협동연구사업   \n",
       "753227  생명통합정보시스템 활용 독창적 신약개발협동연구사업   \n",
       "\n",
       "                                              ass_content ass_detail  \\\n",
       "647054  1)SAE1/2 저해제 항암제 개발\\n\\n\\n\\n\\n\\n   - 구조-활성 상관관계...        NaN   \n",
       "753227  1)SAE1/2 저해제 항암제 개발\\n\\n\\n\\n\\n\\n   - 구조-활성 상관관계...        하향식   \n",
       "\n",
       "            ass_no user_no  \n",
       "647054  1711063796     875  \n",
       "753227  1711080637     875  "
      ]
     },
     "execution_count": 27,
     "metadata": {},
     "output_type": "execute_result"
    }
   ],
   "source": [
    "df[df['user_no'] == '875']"
   ]
  },
  {
   "cell_type": "markdown",
   "id": "5a814ab7-ed1e-4bb3-8c81-0a04097e6e38",
   "metadata": {},
   "source": [
    "# save"
   ]
  },
  {
   "cell_type": "code",
   "execution_count": 29,
   "id": "35a88970-0dce-464c-b0a2-5647c7445447",
   "metadata": {},
   "outputs": [],
   "source": [
    "from pshmodule.utils import filemanager as fm"
   ]
  },
  {
   "cell_type": "code",
   "execution_count": 30,
   "id": "0dff2e97-3748-4940-b427-1d944a970faa",
   "metadata": {},
   "outputs": [
    {
     "name": "stdout",
     "output_type": "stream",
     "text": [
      "Saved 312027 records\n"
     ]
    }
   ],
   "source": [
    "fm.save(config.df_final_path, df)"
   ]
  },
  {
   "cell_type": "code",
   "execution_count": null,
   "id": "b2141f87-f675-41ca-aebe-b44cb978b405",
   "metadata": {},
   "outputs": [],
   "source": []
  }
 ],
 "metadata": {
  "kernelspec": {
   "display_name": "Python 3",
   "language": "python",
   "name": "python3"
  },
  "language_info": {
   "codemirror_mode": {
    "name": "ipython",
    "version": 3
   },
   "file_extension": ".py",
   "mimetype": "text/x-python",
   "name": "python",
   "nbconvert_exporter": "python",
   "pygments_lexer": "ipython3",
   "version": "3.8.10"
  }
 },
 "nbformat": 4,
 "nbformat_minor": 5
}
